{
 "cells": [
  {
   "cell_type": "markdown",
   "metadata": {},
   "source": [
    "# PLS-DA for Ralstonia"
   ]
  },
  {
   "cell_type": "markdown",
   "metadata": {},
   "source": [
    "## Imports"
   ]
  },
  {
   "cell_type": "code",
   "execution_count": null,
   "metadata": {},
   "outputs": [],
   "source": [
    "import os\n",
    "import datetime \n",
    "\n",
    "import pandas as pd\n",
    "import numpy as np\n",
    "\n",
    "from sklearn.decomposition import PCA\n",
    "from sklearn.preprocessing import StandardScaler, OneHotEncoder, normalize\n",
    "from sklearn.discriminant_analysis import LinearDiscriminantAnalysis\n",
    "from sklearn.cross_decomposition import PLSRegression, CCA, PLSSVD\n",
    "\n",
    "import plotly.graph_objects as go\n",
    "import plotly.express as px\n",
    "\n",
    "pd.options.plotting.backend = \"plotly\""
   ]
  },
  {
   "cell_type": "markdown",
   "metadata": {},
   "source": [
    "## Functions"
   ]
  },
  {
   "cell_type": "code",
   "execution_count": null,
   "metadata": {},
   "outputs": [],
   "source": [
    "def scatter_model(model, df, x_new, column_names, loadings=None, title=\"\"):\n",
    "    pc1_lbl = f\"PC1 ({model.explained_variance_ratio_[0] * 100:.2f}%)\"\n",
    "    pc2_lbl = f\"PC2 ({model.explained_variance_ratio_[1] * 100:.2f}%)\"\n",
    "    x = x_new[:, 0]\n",
    "    y = x_new[:, 1]\n",
    "\n",
    "    df[pc1_lbl] = x * (1.0 / (x.max() - x.min()))\n",
    "    df[pc2_lbl] = y * (1.0 / (y.max() - y.min()))\n",
    "\n",
    "    fig = px.scatter(\n",
    "        data_frame=df,\n",
    "        x=pc1_lbl,\n",
    "        y=pc2_lbl,\n",
    "        color=\"disease_idx_str\",\n",
    "        title=title,\n",
    "    )    \n",
    "    if loadings is not None:\n",
    "        m = 1 / np.amax(loadings)\n",
    "        loadings = loadings * m\n",
    "        xc, yc = [], []\n",
    "        for i in range(loadings.shape[0]):\n",
    "            xc.extend([0, loadings[i, 0], None])\n",
    "            yc.extend([0, loadings[i, 1], None])\n",
    "        fig.add_trace(\n",
    "            go.Scatter(\n",
    "                x=xc,\n",
    "                y=yc,\n",
    "                mode=\"lines\",\n",
    "                name=\"Loadings\",\n",
    "                showlegend=False,\n",
    "                line=dict(color=\"black\"),\n",
    "                opacity=0.3,\n",
    "            )\n",
    "        )\n",
    "        fig.add_trace(\n",
    "            go.Scatter(\n",
    "                x=loadings[:, 0],\n",
    "                y=loadings[:, 1],\n",
    "                mode=\"text\",\n",
    "                text=column_names,\n",
    "                opacity=0.7,\n",
    "                name=\"Loadings\",\n",
    "            ),\n",
    "        )\n",
    "\n",
    "    fig.update_layout(\n",
    "        height=800,\n",
    "        title=title,\n",
    "    )\n",
    "\n",
    "    return fig"
   ]
  },
  {
   "cell_type": "code",
   "execution_count": null,
   "metadata": {},
   "outputs": [],
   "source": [
    "def plot_variance(df_ev):\n",
    "    df_ev = df_ev.assign(cumulative=df_ev[\"exp_var_per\"].cumsum())\n",
    "    ev_fig = go.Figure()\n",
    "    ev_fig.add_trace(\n",
    "        go.Bar(\n",
    "            x=df_ev[\"pc\"],\n",
    "            y=df_ev[\"exp_var_per\"],\n",
    "            name=\"individual\",\n",
    "        )\n",
    "    )\n",
    "    ev_fig.add_trace(\n",
    "        go.Scatter(\n",
    "            x=df_ev[\"pc\"],\n",
    "            y=df_ev[\"cumulative\"],\n",
    "            name=\"cumulative\",\n",
    "        )\n",
    "    )\n",
    "    ev_fig.update_layout(\n",
    "        height=800,\n",
    "        title=\"Explained variance by different principal components\",\n",
    "        xaxis_title=\"Principal component\",\n",
    "        yaxis_title=\"Explained variance in percent\",\n",
    "    )\n",
    "    return ev_fig"
   ]
  },
  {
   "cell_type": "markdown",
   "metadata": {},
   "source": [
    "## Load dataframe"
   ]
  },
  {
   "cell_type": "code",
   "execution_count": null,
   "metadata": {},
   "outputs": [],
   "source": [
    "df_src = pd.read_csv(\n",
    "    os.path.join(\"..\", \"data_in\", \"020s1804_nem_v5.1.csv\")\n",
    ").drop(\n",
    "    [\"date_time\", \"experiment\", \"plant_id\", \"biol_rep\"],\n",
    "    axis=1,\n",
    ").assign(\n",
    "    day_after_start=lambda x: x.day_after_start.astype(int)\n",
    ").sort_values(\n",
    "    [\"plant\", \"date\"]\n",
    ")\n",
    "df_src = df_src[df_src.date != datetime.date(year=2018,month=4,day=19)]\n",
    "df_src\n"
   ]
  },
  {
   "cell_type": "code",
   "execution_count": null,
   "metadata": {},
   "outputs": [],
   "source": [
    "df_src.sort_values(\n",
    "    [\n",
    "        \"disease_index\", \n",
    "        \"plant\", \n",
    "        \"date\"\n",
    "    ]\n",
    ").select_dtypes(\n",
    "    np.number\n",
    ").apply(lambda x: x / x.max()).drop(\n",
    "    [\"day_after_start\"], \n",
    "    axis=1,\n",
    ").reset_index(\n",
    "    drop=True\n",
    ").assign(\n",
    "    disease_index=lambda x: x.disease_index * 4\n",
    ").plot(\n",
    "    kind=\"line\",\n",
    "    height=800,\n",
    "    facet_col=\"disease_index\",\n",
    ")\n"
   ]
  },
  {
   "cell_type": "code",
   "execution_count": null,
   "metadata": {},
   "outputs": [],
   "source": [
    "df_src.date.plot.bar()"
   ]
  },
  {
   "cell_type": "code",
   "execution_count": null,
   "metadata": {},
   "outputs": [],
   "source": [
    "df_src.isnull().sum().sum()"
   ]
  },
  {
   "cell_type": "code",
   "execution_count": null,
   "metadata": {},
   "outputs": [],
   "source": [
    "sgl_val = []\n",
    "for column in df_src.columns:\n",
    "    if len(df_src[column].unique()) < 2:\n",
    "        sgl_val.append(column)\n",
    "\n",
    "sgl_val\n"
   ]
  },
  {
   "cell_type": "markdown",
   "metadata": {},
   "source": [
    "## Prepare dataframe"
   ]
  },
  {
   "cell_type": "code",
   "execution_count": null,
   "metadata": {},
   "outputs": [],
   "source": [
    "X = (\n",
    "    df_src.drop(\n",
    "        [\n",
    "            \"day_after_start\",\n",
    "            \"disease_index\",\n",
    "        ],\n",
    "        axis=1,\n",
    "    ).select_dtypes(np.number)\n",
    ")\n",
    "\n",
    "column_names = X.columns.to_list()\n",
    "scaler = StandardScaler()\n",
    "scaler.fit(X)\n",
    "X = scaler.transform(X)"
   ]
  },
  {
   "cell_type": "markdown",
   "metadata": {},
   "source": [
    "## PCA"
   ]
  },
  {
   "cell_type": "markdown",
   "metadata": {},
   "source": [
    "### Fit PCA"
   ]
  },
  {
   "cell_type": "code",
   "execution_count": null,
   "metadata": {},
   "outputs": [],
   "source": [
    "pca_data = PCA()\n",
    "x_new = pca_data.fit_transform(X)\n"
   ]
  },
  {
   "cell_type": "markdown",
   "metadata": {},
   "source": [
    "### Plot"
   ]
  },
  {
   "cell_type": "code",
   "execution_count": null,
   "metadata": {},
   "outputs": [],
   "source": [
    "scatter_model(\n",
    "    model=pca_data,\n",
    "    df=df_src.copy(),\n",
    "    x_new=x_new,\n",
    "    column_names=column_names,\n",
    "    loadings=np.transpose(pca_data.components_[0:2, :]),\n",
    "    title=\"PCA with loadings\"\n",
    ")\n"
   ]
  },
  {
   "cell_type": "code",
   "execution_count": null,
   "metadata": {},
   "outputs": [],
   "source": [
    "plot_variance(\n",
    "    df_ev=pd.DataFrame.from_dict(\n",
    "        {\n",
    "            \"pc\": [f\"PC{i}\" for i in range(len(pca_data.explained_variance_ratio_))],\n",
    "            \"exp_var_per\": pca_data.explained_variance_ratio_ * 100,\n",
    "        }\n",
    "    )\n",
    ")\n"
   ]
  },
  {
   "cell_type": "markdown",
   "metadata": {},
   "source": [
    "## PLS-DA"
   ]
  },
  {
   "cell_type": "markdown",
   "metadata": {},
   "source": [
    "#### Find the optimal components"
   ]
  },
  {
   "cell_type": "markdown",
   "metadata": {},
   "source": [
    "##### Brute force"
   ]
  },
  {
   "cell_type": "code",
   "execution_count": null,
   "metadata": {},
   "outputs": [],
   "source": [
    "best = (0,0)\n",
    "pls_data = None\n",
    "for i in range(2, X.shape[1] + 1):\n",
    "    pls_tmp = PLSRegression(n_components=i)\n",
    "    x_new = pls_tmp.fit(\n",
    "        X, \n",
    "        df_src.disease_index,\n",
    "    ).transform(X)\n",
    "    score = pls_tmp.score(X, df_src.disease_index)\n",
    "    if score > best[1]:\n",
    "        best = (i, score, pls_tmp)\n",
    "\n",
    "best"
   ]
  },
  {
   "cell_type": "markdown",
   "metadata": {},
   "source": [
    "##### Guided by correlation"
   ]
  },
  {
   "cell_type": "code",
   "execution_count": null,
   "metadata": {},
   "outputs": [],
   "source": [
    "corr_matrix = df_src.drop([\"day_after_start\"], axis=1).corr()"
   ]
  },
  {
   "cell_type": "code",
   "execution_count": null,
   "metadata": {},
   "outputs": [],
   "source": [
    "px.imshow(corr_matrix, text_auto=True, height=1400)"
   ]
  },
  {
   "cell_type": "code",
   "execution_count": null,
   "metadata": {},
   "outputs": [],
   "source": [
    "\n",
    "for threshold in [0.1, 0.2, 0.3, 0.4, 0.5, 0.6, 0.7, 0.8, 0.9]:\n",
    "    best_columns = (\n",
    "        corr_matrix[\n",
    "            (corr_matrix.disease_index > threshold)\n",
    "            | (corr_matrix.disease_index < -threshold)\n",
    "        ][[\"disease_index\"]]\n",
    "        .sort_values([\"disease_index\"])\n",
    "        .index.to_list()\n",
    "    )\n",
    "    best_columns.remove(\"disease_index\")\n",
    "    if best_columns:\n",
    "        Xc = df_src[best_columns]\n",
    "        pls_data = PLSRegression(n_components=Xc.shape[1])\n",
    "        x_new = pls_data.fit(\n",
    "            Xc,\n",
    "            df_src.disease_index,\n",
    "        ).transform(Xc)\n",
    "        score = pls_data.score(Xc, df_src.disease_index)\n",
    "        # best.append(())\n",
    "        if score > best[1]:\n",
    "            best = (threshold, score)\n",
    "best\n"
   ]
  },
  {
   "cell_type": "markdown",
   "metadata": {},
   "source": [
    "### Fit"
   ]
  },
  {
   "cell_type": "code",
   "execution_count": null,
   "metadata": {},
   "outputs": [],
   "source": [
    "pls_data = PLSRegression(n_components=47)\n",
    "x_new = pls_data.fit(\n",
    "    X, \n",
    "    df_src.disease_index,\n",
    ").transform(X)"
   ]
  },
  {
   "cell_type": "code",
   "execution_count": null,
   "metadata": {},
   "outputs": [],
   "source": [
    "pls_data.score(X, df_src.disease_index)"
   ]
  },
  {
   "cell_type": "markdown",
   "metadata": {},
   "source": [
    "### Plots"
   ]
  },
  {
   "cell_type": "code",
   "execution_count": null,
   "metadata": {},
   "outputs": [],
   "source": [
    "px.scatter(\n",
    "    x=pls_data.x_scores_[:,0] / pls_data.x_scores_[:,0].max(),\n",
    "    y=pls_data.x_scores_[:,1] / pls_data.x_scores_[:,1].max(),\n",
    "    color=df_src.disease_idx_str,\n",
    "    height=800,\n",
    ")"
   ]
  },
  {
   "cell_type": "code",
   "execution_count": null,
   "metadata": {},
   "outputs": [],
   "source": [
    "px.scatter_3d(\n",
    "    x=pls_data.x_scores_[:,0] / pls_data.x_scores_[:,0].max(),\n",
    "    y=pls_data.x_scores_[:,1] / pls_data.x_scores_[:,1].max(),\n",
    "    z=pls_data.x_scores_[:,2] / pls_data.x_scores_[:,2].max(),\n",
    "    color=df_src.disease_idx_str,\n",
    "    height=800,\n",
    ")"
   ]
  },
  {
   "cell_type": "code",
   "execution_count": null,
   "metadata": {},
   "outputs": [],
   "source": []
  }
 ],
 "metadata": {
  "kernelspec": {
   "display_name": "Python 3.10.6 ('env': venv)",
   "language": "python",
   "name": "python3"
  },
  "language_info": {
   "codemirror_mode": {
    "name": "ipython",
    "version": 3
   },
   "file_extension": ".py",
   "mimetype": "text/x-python",
   "name": "python",
   "nbconvert_exporter": "python",
   "pygments_lexer": "ipython3",
   "version": "3.10.8"
  },
  "orig_nbformat": 4,
  "vscode": {
   "interpreter": {
    "hash": "57ea4112c076accd34380d1fc13840c87329161a9b2286676849023bcb84b091"
   }
  }
 },
 "nbformat": 4,
 "nbformat_minor": 2
}
