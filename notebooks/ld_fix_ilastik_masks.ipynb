{
 "cells": [
  {
   "cell_type": "markdown",
   "metadata": {},
   "source": [
    "# Fix GT generated with Ilastik"
   ]
  },
  {
   "cell_type": "markdown",
   "metadata": {},
   "source": [
    "## Set autorelaod"
   ]
  },
  {
   "cell_type": "code",
   "execution_count": null,
   "metadata": {},
   "outputs": [],
   "source": [
    "%load_ext autoreload\n",
    "%autoreload 2"
   ]
  },
  {
   "cell_type": "markdown",
   "metadata": {},
   "source": [
    "## Imports"
   ]
  },
  {
   "cell_type": "code",
   "execution_count": null,
   "metadata": {},
   "outputs": [],
   "source": [
    "from pathlib import Path\n",
    "import warnings\n",
    "\n",
    "import cv2\n",
    "\n",
    "import numpy as np\n",
    "import pandas as pd\n",
    "\n",
    "import matplotlib.pyplot as plt\n",
    "\n",
    "from tqdm import tqdm\n",
    "\n",
    "import ipywidgets as widgets\n",
    "from IPython.display import Image as IpImage\n",
    "from IPython.display import display\n",
    "from ipywidgets import Button, HBox, VBox\n",
    "\n",
    "import sys  \n",
    "sys.path.insert(0, os.path.join(\"..\", \"scripts\"))\n",
    "\n",
    "import gav_mildiou_func as gof\n",
    "import gav_mildiou_const as goc\n",
    "import gav_mildiou_text as got\n",
    "import gav_mildiou_plotly as gop\n",
    "\n",
    "import ld_dataset as ldd\n",
    "import ld_plot as ldp\n",
    "import ld_image as ldi\n",
    "\n",
    "warnings.simplefilter(\"ignore\")"
   ]
  },
  {
   "cell_type": "markdown",
   "metadata": {},
   "source": [
    "## Set paths"
   ]
  },
  {
   "cell_type": "code",
   "execution_count": null,
   "metadata": {},
   "outputs": [],
   "source": [
    "ilastik_masks_path = goc.datain_path.joinpath(\"images\", \"ld_sheets\", \"ilastik_masks\")\n",
    "ilastik_masks_path.is_dir()"
   ]
  },
  {
   "cell_type": "code",
   "execution_count": null,
   "metadata": {},
   "outputs": [],
   "source": [
    "train_masks_path = goc.datain_path.joinpath(\"images\", \"ld_sheets\", \"masks\")\n",
    "train_masks_path.is_dir()"
   ]
  },
  {
   "cell_type": "code",
   "execution_count": null,
   "metadata": {},
   "outputs": [],
   "source": [
    "dst_disks_path = goc.datain_path.joinpath(\"images\", \"ld_sheets\", \"disks\")\n",
    "dst_disks_path.is_dir()"
   ]
  },
  {
   "cell_type": "code",
   "execution_count": null,
   "metadata": {},
   "outputs": [],
   "source": [
    "train_images_path = goc.datain_path.joinpath(\"images\", \"ld_sheets\", \"images\")\n",
    "train_images_path.is_dir()"
   ]
  },
  {
   "cell_type": "code",
   "execution_count": null,
   "metadata": {},
   "outputs": [],
   "source": [
    "train_patches_path = goc.datain_path.joinpath(\"images\", \"ld_sheets\", \"patches\")\n",
    "train_patches_path.is_dir()"
   ]
  },
  {
   "cell_type": "markdown",
   "metadata": {},
   "source": [
    "## Build  coarse masks list"
   ]
  },
  {
   "cell_type": "code",
   "execution_count": null,
   "metadata": {},
   "outputs": [],
   "source": [
    "src_masks = list(ilastik_masks_path.glob(\"*.bmp\"))\n",
    "len(src_masks)"
   ]
  },
  {
   "cell_type": "markdown",
   "metadata": {},
   "source": [
    "## Functions"
   ]
  },
  {
   "cell_type": "code",
   "execution_count": null,
   "metadata": {},
   "outputs": [],
   "source": [
    "def load_mask(file_path: str):\n",
    "    return cv2.imread(str(file_path), cv2.COLOR_BGR2GRAY)\n",
    "\n",
    "\n",
    "def load_image(file_path: str):\n",
    "    return cv2.cvtColor(cv2.imread(str(file_path)), cv2.COLOR_BGR2RGB)\n"
   ]
  },
  {
   "cell_type": "markdown",
   "metadata": {},
   "source": [
    "## Build clean masks"
   ]
  },
  {
   "cell_type": "markdown",
   "metadata": {},
   "source": [
    "### Prototype"
   ]
  },
  {
   "cell_type": "markdown",
   "metadata": {},
   "source": [
    "#### Load mask"
   ]
  },
  {
   "cell_type": "code",
   "execution_count": null,
   "metadata": {},
   "outputs": [],
   "source": [
    "cb_image = widgets.Dropdown(\n",
    "    options=sorted([i.name for i in src_masks]),\n",
    "    description=\"Select an image:\",\n",
    "    layout=widgets.Layout(width=\"100%\"),\n",
    ")\n",
    "disp_image = widgets.Output(layout=widgets.Layout(height=\"800\"))\n",
    "\n",
    "\n",
    "def on_image_changed(change):\n",
    "    disp_image.clear_output()\n",
    "    ldp.visualize_image(\n",
    "        image=load_mask(file_path=str(ilastik_masks_path.joinpath(change.new))),\n",
    "        title=change.new,\n",
    "    )\n",
    "\n",
    "\n",
    "cb_image.observe(on_image_changed, names=\"value\")\n",
    "\n",
    "display(VBox([cb_image, disp_image]))\n"
   ]
  },
  {
   "cell_type": "code",
   "execution_count": null,
   "metadata": {},
   "outputs": [],
   "source": [
    "raw_mask = load_mask(file_path=str(ilastik_masks_path.joinpath(cb_image.value)))\n",
    "ldp.visualize_image(raw_mask)\n"
   ]
  },
  {
   "cell_type": "code",
   "execution_count": null,
   "metadata": {},
   "outputs": [],
   "source": [
    "np.unique(raw_mask)"
   ]
  },
  {
   "cell_type": "markdown",
   "metadata": {},
   "source": [
    "#### Clean ask"
   ]
  },
  {
   "cell_type": "code",
   "execution_count": null,
   "metadata": {},
   "outputs": [],
   "source": [
    "clean_mask = ldi.clean_contours(mask=raw_mask.copy(), size_thrshold=0.75)\n",
    "ldp.visualize_image(clean_mask)\n"
   ]
  },
  {
   "cell_type": "code",
   "execution_count": null,
   "metadata": {},
   "outputs": [],
   "source": [
    "np.unique(clean_mask)"
   ]
  },
  {
   "cell_type": "code",
   "execution_count": null,
   "metadata": {},
   "outputs": [],
   "source": [
    "np.count_nonzero(clean_mask)"
   ]
  },
  {
   "cell_type": "markdown",
   "metadata": {},
   "source": [
    "#### Resize mask"
   ]
  },
  {
   "cell_type": "code",
   "execution_count": null,
   "metadata": {},
   "outputs": [],
   "source": [
    "resized_mask = np.where(\n",
    "    cv2.resize(\n",
    "        clean_mask,\n",
    "        (clean_mask.shape[1] * 2, clean_mask.shape[0] * 2),\n",
    "        cv2.INTER_NEAREST,\n",
    "    )\n",
    "    > 0,\n",
    "    255,\n",
    "    0,\n",
    ").astype(np.uint8)\n",
    "# resized_mask[resized_mask != 0] == 255\n",
    "ldp.visualize_image(resized_mask)\n"
   ]
  },
  {
   "cell_type": "code",
   "execution_count": null,
   "metadata": {},
   "outputs": [],
   "source": [
    "np.unique(resized_mask)"
   ]
  },
  {
   "cell_type": "code",
   "execution_count": null,
   "metadata": {},
   "outputs": [],
   "source": [
    "np.count_nonzero(resized_mask)"
   ]
  },
  {
   "cell_type": "code",
   "execution_count": null,
   "metadata": {},
   "outputs": [],
   "source": [
    "resized_mask.dtype"
   ]
  },
  {
   "cell_type": "code",
   "execution_count": null,
   "metadata": {},
   "outputs": [],
   "source": [
    "np.unique(resized_mask)"
   ]
  },
  {
   "cell_type": "markdown",
   "metadata": {},
   "source": [
    "#### Do mask in one"
   ]
  },
  {
   "cell_type": "code",
   "execution_count": null,
   "metadata": {},
   "outputs": [],
   "source": [
    "src_image = load_image(train_images_path.joinpath(cb_image.value.split(\".\")[0] + \".jpg\"))\n",
    "\n",
    "\n",
    "resized_mask = np.where(\n",
    "    cv2.resize(\n",
    "        ldi.clean_contours(\n",
    "            mask=load_mask(\n",
    "                file_path=str(ilastik_masks_path.joinpath(cb_image.value))\n",
    "            ).copy(),\n",
    "            size_thrshold=0.75,\n",
    "        ),\n",
    "        (src_image.shape[1], src_image.shape[0]),\n",
    "        cv2.INTER_NEAREST,\n",
    "    )\n",
    "    > 0,\n",
    "    255,\n",
    "    0,\n",
    ").astype(np.uint8)\n",
    "\n",
    "ldp.visualize_image(resized_mask)\n"
   ]
  },
  {
   "cell_type": "markdown",
   "metadata": {},
   "source": [
    "#### Show contours indexes"
   ]
  },
  {
   "cell_type": "code",
   "execution_count": null,
   "metadata": {},
   "outputs": [],
   "source": [
    "contours = ldi.index_contours(resized_mask)\n",
    "\n",
    "ldp.visualize_image(\n",
    "    ldi.print_contours_indexes(\n",
    "        resized_mask,\n",
    "        contours,\n",
    "        canvas=ldi.apply_mask(\n",
    "            load_image(\n",
    "                file_path=str(\n",
    "                    train_images_path.joinpath(cb_image.value.split(\".\")[0] + \".jpg\")\n",
    "                )\n",
    "            ),\n",
    "            resized_mask,\n",
    "            draw_contours=8,\n",
    "        ),\n",
    "    ),\n",
    "    # figsize=(12, 8),\n",
    ")\n"
   ]
  },
  {
   "cell_type": "code",
   "execution_count": null,
   "metadata": {},
   "outputs": [],
   "source": [
    "list(contours)"
   ]
  },
  {
   "cell_type": "code",
   "execution_count": null,
   "metadata": {},
   "outputs": [],
   "source": [
    "ld = ldi.get_leaf_disk(\n",
    "    image=load_image(\n",
    "        file_path=str(\n",
    "            train_images_path.joinpath(cb_image.value.split(\".\")[0] + \".jpg\")\n",
    "        )\n",
    "    ),\n",
    "    contours=contours,\n",
    "    row=contours[0].row,\n",
    "    col=contours[0].col,\n",
    ")\n",
    "\n",
    "\n",
    "ldp.visualize_image(ld)"
   ]
  },
  {
   "cell_type": "code",
   "execution_count": null,
   "metadata": {},
   "outputs": [],
   "source": [
    "ld.shape"
   ]
  },
  {
   "cell_type": "code",
   "execution_count": null,
   "metadata": {},
   "outputs": [],
   "source": [
    "for raw_mask_path in tqdm(src_masks):\n",
    "    src_image = load_image(\n",
    "        file_path=train_images_path.joinpath(raw_mask_path.stem + \".jpg\")\n",
    "    )\n",
    "    cv2.imwrite(\n",
    "        str(train_masks_path.joinpath(raw_mask_path.stem + \".bmp\")),\n",
    "        np.where(\n",
    "            cv2.resize(\n",
    "                ldi.clean_contours(\n",
    "                    mask=load_mask(file_path=ilastik_masks_path.joinpath(raw_mask_path.stem + \".bmp\")),\n",
    "                    size_thrshold=0.75,\n",
    "                ),\n",
    "                (src_image.shape[1], src_image.shape[0]),\n",
    "                cv2.INTER_NEAREST,\n",
    "            )\n",
    "            > 0,\n",
    "            255,\n",
    "            0,\n",
    "        ).astype(np.uint8),\n",
    "    )\n"
   ]
  },
  {
   "cell_type": "markdown",
   "metadata": {},
   "source": [
    "## Build patches"
   ]
  },
  {
   "cell_type": "markdown",
   "metadata": {},
   "source": [
    "### Load Dataframe"
   ]
  },
  {
   "cell_type": "code",
   "execution_count": null,
   "metadata": {},
   "outputs": [],
   "source": [
    "d = (\n",
    "    pd.concat(\n",
    "        [\n",
    "            pd.read_csv(\n",
    "                str(\n",
    "                    Path.cwd().parent.joinpath(\n",
    "                        goc.dataframes_path,\n",
    "                        \"ld_dataset_ilastik_train.csv\",\n",
    "                    )\n",
    "                ),\n",
    "                sep=\",\",\n",
    "            ),\n",
    "            pd.read_csv(\n",
    "                str(Path.cwd().parent.joinpath(goc.dataframes_path, \"ld_dataset.csv\")),\n",
    "                sep=\",\",\n",
    "            ),\n",
    "        ]\n",
    "    )\n",
    "    .drop([\"Unnamed: 0\"], axis=1)\n",
    "    .drop_duplicates()\n",
    "    .sort_values([\"exp_folder\", \"experiment\", \"image_name\", \"ligne\", \"colonne\"])\n",
    "    .assign(colonne=lambda x: x.colonne.astype(np.int8))\n",
    ")\n",
    "d\n"
   ]
  },
  {
   "cell_type": "code",
   "execution_count": null,
   "metadata": {},
   "outputs": [],
   "source": [
    "d.hist(figsize=(12, 8));"
   ]
  },
  {
   "cell_type": "markdown",
   "metadata": {},
   "source": [
    "### Prototype"
   ]
  },
  {
   "cell_type": "markdown",
   "metadata": {},
   "source": [
    "#### Get sample row"
   ]
  },
  {
   "cell_type": "code",
   "execution_count": null,
   "metadata": {},
   "outputs": [],
   "source": [
    "row = d.sample(n=1)\n",
    "row"
   ]
  },
  {
   "cell_type": "markdown",
   "metadata": {},
   "source": [
    "#### Load image and mask"
   ]
  },
  {
   "cell_type": "code",
   "execution_count": null,
   "metadata": {},
   "outputs": [],
   "source": [
    "image_name = row.image_name.to_list()[0]\n",
    "image_name"
   ]
  },
  {
   "cell_type": "code",
   "execution_count": null,
   "metadata": {},
   "outputs": [],
   "source": [
    "train_images_path.joinpath(image_name + \".jpg\")"
   ]
  },
  {
   "cell_type": "code",
   "execution_count": null,
   "metadata": {},
   "outputs": [],
   "source": [
    "image = load_image(train_images_path.joinpath(image_name + \".jpg\"))\n",
    "ldp.visualize_image(image)"
   ]
  },
  {
   "cell_type": "code",
   "execution_count": null,
   "metadata": {},
   "outputs": [],
   "source": [
    "image.shape"
   ]
  },
  {
   "cell_type": "code",
   "execution_count": null,
   "metadata": {},
   "outputs": [],
   "source": [
    "train_masks_path.joinpath(image_name + \".bmp\")"
   ]
  },
  {
   "cell_type": "code",
   "execution_count": null,
   "metadata": {},
   "outputs": [],
   "source": [
    "mask = load_mask(train_masks_path.joinpath(image_name + \".bmp\"))\n",
    "ldp.visualize_image(mask)"
   ]
  },
  {
   "cell_type": "code",
   "execution_count": null,
   "metadata": {},
   "outputs": [],
   "source": [
    "mask.shape"
   ]
  },
  {
   "cell_type": "code",
   "execution_count": null,
   "metadata": {},
   "outputs": [],
   "source": [
    "assert(image.shape[0] == mask.shape[0] and image.shape[1] == mask.shape[1])"
   ]
  },
  {
   "cell_type": "markdown",
   "metadata": {},
   "source": [
    "#### Get leaf disk"
   ]
  },
  {
   "cell_type": "code",
   "execution_count": null,
   "metadata": {},
   "outputs": [],
   "source": [
    "contours = ldi.index_contours(mask)\n",
    "\n",
    "ldp.visualize_image(\n",
    "    ldi.print_contours_indexes(\n",
    "        mask,\n",
    "        contours,\n",
    "        canvas=ldi.apply_mask(image.copy(), mask, draw_contours=8),\n",
    "    ),\n",
    ")\n"
   ]
  },
  {
   "cell_type": "code",
   "execution_count": null,
   "metadata": {},
   "outputs": [],
   "source": [
    "ld = ldi.get_leaf_disk_patch(\n",
    "    image=image,\n",
    "    mask=mask,\n",
    "    contours=contours,\n",
    "    row=row.ligne.to_list()[0],\n",
    "    col=row.colonne.to_list()[0],\n",
    "    patch_size=200,\n",
    ")\n",
    "\n",
    "\n",
    "ldp.visualize_image(ld)\n",
    "\n",
    "\n",
    "cv2.imwrite(\n",
    "    str(\n",
    "        train_patches_path.joinpath(\n",
    "            f\"{image_name}_{row.ligne.to_list()[0]}_{row.colonne.to_list()[0]}.bmp\"\n",
    "        )\n",
    "    ),\n",
    "    cv2.cvtColor(ld, cv2.COLOR_RGB2BGR),\n",
    ")\n"
   ]
  },
  {
   "cell_type": "code",
   "execution_count": null,
   "metadata": {},
   "outputs": [],
   "source": [
    "row.colonne.to_list()[0]"
   ]
  },
  {
   "cell_type": "markdown",
   "metadata": {},
   "source": [
    "### Build patches"
   ]
  },
  {
   "cell_type": "code",
   "execution_count": null,
   "metadata": {},
   "outputs": [],
   "source": [
    "fails = []\n",
    "\n",
    "for row in tqdm([row for _, row in d.iterrows()]):\n",
    "    try:\n",
    "        image_name = row.image_name\n",
    "        image = load_image(train_images_path.joinpath(image_name + \".jpg\"))\n",
    "        mask = load_mask(train_masks_path.joinpath(image_name + \".bmp\"))\n",
    "        contours = ldi.index_contours(mask)\n",
    "\n",
    "        cv2.imwrite(\n",
    "            str(\n",
    "                train_patches_path.joinpath(\n",
    "                    f\"{image_name}_{row.ligne}_{row.colonne}.bmp\"\n",
    "                )\n",
    "            ),\n",
    "            cv2.cvtColor(\n",
    "                ldi.get_leaf_disk_patch(\n",
    "                    image=image,\n",
    "                    mask=mask,\n",
    "                    contours=contours,\n",
    "                    row=row.ligne,\n",
    "                    col=row.colonne,\n",
    "                    patch_size=200,\n",
    "                ),\n",
    "                cv2.COLOR_RGB2BGR,\n",
    "            ),\n",
    "        )\n",
    "    except Exception as e:\n",
    "        fails.append(f\"Failed to extract patch for {image_name}: {row.ligne},{row.colonne}\")\n",
    "\n",
    "fails\n"
   ]
  },
  {
   "cell_type": "code",
   "execution_count": null,
   "metadata": {},
   "outputs": [],
   "source": []
  }
 ],
 "metadata": {
  "kernelspec": {
   "display_name": "Python 3.10.8 ('env': venv)",
   "language": "python",
   "name": "python3"
  },
  "language_info": {
   "codemirror_mode": {
    "name": "ipython",
    "version": 3
   },
   "file_extension": ".py",
   "mimetype": "text/x-python",
   "name": "python",
   "nbconvert_exporter": "python",
   "pygments_lexer": "ipython3",
   "version": "3.10.8"
  },
  "orig_nbformat": 4,
  "vscode": {
   "interpreter": {
    "hash": "57ea4112c076accd34380d1fc13840c87329161a9b2286676849023bcb84b091"
   }
  }
 },
 "nbformat": 4,
 "nbformat_minor": 2
}
