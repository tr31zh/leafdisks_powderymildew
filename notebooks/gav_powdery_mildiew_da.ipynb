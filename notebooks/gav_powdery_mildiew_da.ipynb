{
 "cells": [
  {
   "cell_type": "code",
   "execution_count": null,
   "metadata": {},
   "outputs": [],
   "source": [
    "import os\n",
    "import warnings\n",
    "import itertools\n",
    "\n",
    "import pandas as pd\n",
    "\n",
    "import datapane as dp\n",
    "\n",
    "from sklearn.decomposition import PCA\n",
    "from sklearn.preprocessing import StandardScaler\n",
    "from sklearn.cross_decomposition import PLSRegression\n",
    "from sklearn.cluster import KMeans\n",
    "from sklearn.discriminant_analysis import LinearDiscriminantAnalysis\n",
    "\n",
    "from yellowbrick.cluster import (\n",
    "    KElbowVisualizer,\n",
    "    SilhouetteVisualizer,\n",
    "    InterclusterDistance,\n",
    ")\n",
    "from plotly.subplots import make_subplots\n",
    "import plotly.graph_objects as go\n",
    "import plotly.express as px\n",
    "from plotly.subplots import make_subplots\n",
    "\n",
    "import sys  \n",
    "sys.path.insert(0, os.path.join(\"..\", \"scripts\"))\n",
    "\n",
    "import gav_oidium_func as gof\n",
    "import gav_oidium_const as goc\n",
    "import gav_oidium_text as got\n",
    "import gav_oidium_plot_plotly as gop\n",
    "\n",
    "import IPython.display as disp\n",
    "\n",
    "pd.options.plotting.backend = \"plotly\"\n",
    "pd.options.display.float_format = \"{:4,.2f}\".format\n",
    "\n",
    "warnings.simplefilter(\"ignore\")\n",
    "\n",
    "os.chdir(\"..\")"
   ]
  },
  {
   "cell_type": "code",
   "execution_count": null,
   "metadata": {},
   "outputs": [],
   "source": [
    "def disp_mkdw(text):\n",
    "    disp.display(disp.Markdown(text))\n",
    "\n",
    "def disp_img(path):\n",
    "    disp.display(disp.Image(path))"
   ]
  },
  {
   "cell_type": "code",
   "execution_count": null,
   "metadata": {},
   "outputs": [],
   "source": [
    "# disp.display(disp.Markdown(f\"{goc.lvl_1_header} Leaf Disk Collate Ground Truth\"))\n",
    "disp_mkdw(f\"{goc.lvl_1_header} Leaf Disk Collate Ground Truth\")"
   ]
  },
  {
   "cell_type": "code",
   "execution_count": null,
   "metadata": {},
   "outputs": [],
   "source": [
    "disp_mkdw(f\"{goc.lvl_2_header} What is OIV and how do we want to predict it\")"
   ]
  },
  {
   "cell_type": "code",
   "execution_count": null,
   "metadata": {},
   "outputs": [],
   "source": [
    "disp_mkdw(got.txt_oiv_452_spec)\n",
    "disp_img(os.path.join(goc.datain_path, \"images\", \"OIV_examples.png\"))\n",
    "disp_mkdw(\"**OIV 452-2 is a resistance scale, higher note means less disease phenotype**\")\n"
   ]
  },
  {
   "cell_type": "code",
   "execution_count": null,
   "metadata": {},
   "outputs": [],
   "source": [
    "disp_mkdw(f\"{goc.lvl_3_header} Other variables\")\n",
    "disp_mkdw(\"Other variables with which we want to predict OIV 452-2\")\n",
    "disp_img(os.path.join(goc.datain_path, \"images\", \"oiv_452-1_desc.png\"))\n",
    "disp_mkdw(got.txt_oiv_452_spec_header)"
   ]
  },
  {
   "cell_type": "code",
   "execution_count": null,
   "metadata": {},
   "outputs": [],
   "source": [
    "lcl_csv_files = gof.get_local_csvs()\n",
    "\n",
    "disp_mkdw(got.txt_what_we_want)\n",
    "disp_mkdw(f\"{goc.lvl_2_header} Build dataframe\")\n",
    "disp_mkdw(f\"{goc.lvl_3_header} Retrieve distant Excels\")\n",
    "disp_mkdw(got.txt_get_excels)\n"
   ]
  },
  {
   "cell_type": "code",
   "execution_count": null,
   "metadata": {},
   "outputs": [],
   "source": [
    "if os.path.isfile(goc.path_to_df_result) is False:\n",
    "    files = gof.get_distant_excels()\n",
    "    gof.copy_excel_files(files)"
   ]
  }
 ],
 "metadata": {
  "kernelspec": {
   "display_name": "Python 3 (ipykernel)",
   "language": "python",
   "name": "python3"
  },
  "language_info": {
   "codemirror_mode": {
    "name": "ipython",
    "version": 3
   },
   "file_extension": ".py",
   "mimetype": "text/x-python",
   "name": "python",
   "nbconvert_exporter": "python",
   "pygments_lexer": "ipython3",
   "version": "3.10.6"
  },
  "vscode": {
   "interpreter": {
    "hash": "57ea4112c076accd34380d1fc13840c87329161a9b2286676849023bcb84b091"
   }
  }
 },
 "nbformat": 4,
 "nbformat_minor": 4
}
