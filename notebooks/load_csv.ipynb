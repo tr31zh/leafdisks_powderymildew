{
 "cells": [
  {
   "cell_type": "code",
   "execution_count": null,
   "metadata": {},
   "outputs": [],
   "source": [
    "import pandas as pd\n",
    "from pathlib import Path\n",
    "import os\n",
    "\n",
    "%load_ext autoreload\n",
    "%autoreload 2\n",
    "\n",
    "from sklearn.decomposition import PCA\n",
    "from sklearn.preprocessing import StandardScaler\n",
    "from sklearn.cross_decomposition import PLSRegression\n",
    "from sklearn.cluster import KMeans\n",
    "from sklearn.discriminant_analysis import LinearDiscriminantAnalysis\n",
    "\n",
    "from sklearn.model_selection import train_test_split\n",
    "from sklearn.ensemble import RandomForestClassifier\n",
    "from sklearn.metrics import accuracy_score\n",
    "\n",
    "from matplotlib import pyplot as plt\n",
    "\n",
    "import plotly.express as px\n",
    "import numpy as np\n",
    "\n",
    "import sys  \n",
    "sys.path.insert(0, os.path.join(\"..\", \"scripts\"))\n",
    "\n",
    "import gav_oidium_func as gof\n",
    "import gav_oidium_const as goc\n",
    "import gav_oidium_text as got\n",
    "import gav_oidium_plot_plotly as gop"
   ]
  },
  {
   "cell_type": "code",
   "execution_count": null,
   "metadata": {},
   "outputs": [],
   "source": [
    "df_col = (\n",
    "    pd.read_csv(\"/Users/mavi/Data/iRoCS for Jessis course/Col0root2_fixed.csv\", sep=\",\")\n",
    "    .drop([\"x (micron)\", \"y (micron)\", \"z (micron)\"], axis=1)\n",
    "    .sort_values(\"label\")\n",
    ")\n",
    "X_col = df_col\n",
    "y_col = df_col.label.astype(int) \n",
    "X_col = X_col.drop([\"label\"], axis=1)\n",
    "scaler = StandardScaler()\n",
    "scaler.fit(X_col)\n",
    "X_col = scaler.transform(X_col)\n",
    "\n",
    "gop.plot_model(\n",
    "    X=PCA().fit_transform(X_col),\n",
    "    color=y_col.astype(str),\n",
    "    title=\"Inverted PCA 2D\",\n",
    "    height=800,\n",
    "    # height=default_plot_height,\n",
    ")\n"
   ]
  },
  {
   "cell_type": "code",
   "execution_count": null,
   "metadata": {},
   "outputs": [],
   "source": []
  },
  {
   "cell_type": "code",
   "execution_count": null,
   "metadata": {},
   "outputs": [],
   "source": [
    "X_train_col, X_test_col, y_train_col, y_test_col = train_test_split(X_col, y_col, test_size=0.2, random_state=42)"
   ]
  },
  {
   "cell_type": "code",
   "execution_count": null,
   "metadata": {},
   "outputs": [],
   "source": [
    "rf = RandomForestClassifier(n_estimators=100)\n",
    "rf.fit(X_train_col, y_train_col)"
   ]
  },
  {
   "cell_type": "code",
   "execution_count": null,
   "metadata": {},
   "outputs": [],
   "source": [
    "rf.feature_importances_"
   ]
  },
  {
   "cell_type": "code",
   "execution_count": null,
   "metadata": {},
   "outputs": [],
   "source": [
    "sorted_idx = rf.feature_importances_.argsort()\n",
    "plt.barh(df_col.drop([\"label\"], axis=1).columns[sorted_idx], rf.feature_importances_[sorted_idx])\n",
    "plt.xlabel(\"Random Forest Feature Importance\")"
   ]
  },
  {
   "cell_type": "code",
   "execution_count": null,
   "metadata": {},
   "outputs": [],
   "source": [
    "y_pred = rf.predict(X_test_col)\n",
    "accuracy = accuracy_score(y_test_col, y_pred)\n",
    "print(\"Accuracy (train) for %s: %0.1f%% \" % (\"Random Forest\", accuracy * 100))"
   ]
  },
  {
   "cell_type": "code",
   "execution_count": null,
   "metadata": {},
   "outputs": [],
   "source": [
    "df_c8 = (\n",
    "    pd.read_csv(\"/Users/mavi/Data/iRoCS for Jessis course/C28root3_fixed.csv\", sep=\",\")\n",
    "    .drop([\"x (micron)\", \"y (micron)\", \"z (micron)\"], axis=1)\n",
    "    .sort_values(\"label\")\n",
    ")\n",
    "df_c8 = df_c8[df_c8.label > 0]\n",
    "\n",
    "X_c8 = df_c8\n",
    "y_c8 = df_c8.label.astype(int)\n",
    "X_c8 = X_c8.drop([\"label\"], axis=1)\n",
    "scaler = StandardScaler()\n",
    "scaler.fit(X_c8)\n",
    "X_c8 = scaler.transform(X_c8)\n",
    "\n",
    "import plotly.express as px\n",
    "import numpy as np\n",
    "\n",
    "gop.plot_model(\n",
    "    X=PCA().fit_transform(X_c8),\n",
    "    color=y_c8.astype(str),\n",
    "    title=\"Inverted PCA 2D\",\n",
    "    height=800,\n",
    "    # height=default_plot_height,\n",
    ")\n"
   ]
  },
  {
   "cell_type": "code",
   "execution_count": null,
   "metadata": {},
   "outputs": [],
   "source": [
    "X_train_c8, X_test_c8, y_train_c8, y_test_c8 = train_test_split(X_c8, y_c8, test_size=0.2, random_state=42)\n",
    "\n",
    "rf = RandomForestClassifier(n_estimators=100)\n",
    "rf.fit(X_train_c8, y_train_c8)\n",
    "\n",
    "sorted_idx = rf.feature_importances_.argsort()\n",
    "plt.barh(df_c8.drop([\"label\"], axis=1).columns[sorted_idx], rf.feature_importances_[sorted_idx])\n",
    "plt.xlabel(\"Random Forest Feature Importance\")"
   ]
  },
  {
   "cell_type": "code",
   "execution_count": null,
   "metadata": {},
   "outputs": [],
   "source": [
    "y_pred = rf.predict(X_test_c8)\n",
    "accuracy = accuracy_score(y_test_c8, y_pred)\n",
    "print(\"Accuracy (train) for %s: %0.1f%% \" % (\"Random Forest\", accuracy * 100))"
   ]
  },
  {
   "cell_type": "code",
   "execution_count": null,
   "metadata": {},
   "outputs": [],
   "source": [
    "\n",
    "# lbl = df_c8.label\n",
    "# df_c8=(df_c8-df_c8.min())/(df_c8.max()-df_c8.min())\n",
    "\n",
    "df_all = pd.concat([df_c8.assign(src=\"col\"), df_col.assign(src=\"col8\")])\n",
    "df_all"
   ]
  },
  {
   "cell_type": "code",
   "execution_count": null,
   "metadata": {},
   "outputs": [],
   "source": [
    "df_all.drop_duplicates()"
   ]
  },
  {
   "cell_type": "code",
   "execution_count": null,
   "metadata": {},
   "outputs": [],
   "source": [
    "X_all = df_all.drop(\"src\", axis=1)\n",
    "y_all = df_all.label.astype(int)\n",
    "X_all = X_all.drop([\"label\"], axis=1)\n",
    "scaler = StandardScaler()\n",
    "scaler.fit(X_all)\n",
    "X_all = scaler.transform(X_all)\n",
    "gop.plot_model(\n",
    "    X=PCA().fit_transform(X_all),\n",
    "    color=y_all.astype(str),\n",
    "    title=\"PCA 2D\",\n",
    "    height=800,\n",
    ")"
   ]
  },
  {
   "cell_type": "code",
   "execution_count": null,
   "metadata": {},
   "outputs": [],
   "source": [
    "X_train_all, X_test_all, y_train_all, y_test_all = train_test_split(X_all, y_all, test_size=0.2, random_state=42)\n",
    "\n",
    "rf = RandomForestClassifier(n_estimators=100)\n",
    "rf.fit(X_train_all, y_train_all)\n",
    "\n",
    "sorted_idx = rf.feature_importances_.argsort()\n",
    "plt.barh(df_all.drop([\"label\"], axis=1).columns[sorted_idx], rf.feature_importances_[sorted_idx])\n",
    "plt.xlabel(\"Random Forest Feature Importance\")"
   ]
  },
  {
   "cell_type": "code",
   "execution_count": null,
   "metadata": {},
   "outputs": [],
   "source": [
    "y_pred = rf.predict(X_test_all)\n",
    "accuracy = accuracy_score(y_test_all, y_pred)\n",
    "print(\"Accuracy (train) for %s: %0.1f%% \" % (\"Random Forest\", accuracy * 100))"
   ]
  },
  {
   "cell_type": "markdown",
   "metadata": {},
   "source": [
    "## All together now!"
   ]
  },
  {
   "cell_type": "code",
   "execution_count": null,
   "metadata": {},
   "outputs": [],
   "source": [
    "Path.cwd()"
   ]
  },
  {
   "cell_type": "code",
   "execution_count": null,
   "metadata": {},
   "outputs": [],
   "source": [
    "df_glob = (\n",
    "    pd.concat(\n",
    "        [\n",
    "            (\n",
    "                pd.read_csv(str(csv), sep=\";\")\n",
    "                .drop([\"x (micron)\", \"y (micron)\", \"z (micron)\"], axis=1)\n",
    "                .drop([\"normals\", \"indices\", \"vertices (micron)\"], axis=1)\n",
    "                .sort_values([\"label\", \"volume (cube microns)\"])\n",
    "                .assign(src=csv.stem)\n",
    "            )\n",
    "            for csv in Path.cwd()\n",
    "            .joinpath(\n",
    "                \"..\",\n",
    "                \"data_in\",\n",
    "                \"iRoCS for Jessis course\",\n",
    "                \"train\",\n",
    "            )\n",
    "            .glob(\"*.csv\")\n",
    "        ]\n",
    "    )\n",
    "    .drop_duplicates()\n",
    "    .reset_index(drop=True)\n",
    ")\n",
    "df_glob = df_glob[\n",
    "    (df_glob.label < 8)\n",
    "    & (df_glob[\"distance from QC (z) (micron)\"] < 200)\n",
    "    & (df_glob.label > 0)\n",
    "]\n",
    "\n",
    "df_glob\n"
   ]
  },
  {
   "cell_type": "code",
   "execution_count": null,
   "metadata": {},
   "outputs": [],
   "source": [
    "X = df_glob.drop(\"src\", axis=1)\n",
    "y = df_glob.label.astype(int)\n",
    "X = X.drop([\"label\"], axis=1)\n",
    "scaler = StandardScaler()\n",
    "scaler.fit(X)\n",
    "X = scaler.transform(X)"
   ]
  },
  {
   "cell_type": "code",
   "execution_count": null,
   "metadata": {},
   "outputs": [],
   "source": [
    "pca = PCA()\n",
    "pca_transformed = pca.fit_transform(X)\n",
    "\n",
    "gop.plot_model(\n",
    "    X=pca_transformed,\n",
    "    color=y.astype(str),\n",
    "    title=\"Inverted PCA 2D\",\n",
    "    height=800,\n",
    "    hover_data=df_glob.index.to_list(),\n",
    "    # height=default_plot_height,\n",
    ")\n"
   ]
  },
  {
   "cell_type": "code",
   "execution_count": null,
   "metadata": {},
   "outputs": [],
   "source": [
    "df_glob.loc[12748]"
   ]
  },
  {
   "cell_type": "code",
   "execution_count": null,
   "metadata": {},
   "outputs": [],
   "source": [
    "df_glob.loc[4572]"
   ]
  },
  {
   "cell_type": "code",
   "execution_count": null,
   "metadata": {},
   "outputs": [],
   "source": [
    "df_final = df_glob.drop(index=[12748,4572], axis=0)"
   ]
  },
  {
   "cell_type": "code",
   "execution_count": null,
   "metadata": {},
   "outputs": [],
   "source": [
    "from pca import pca"
   ]
  },
  {
   "cell_type": "code",
   "execution_count": null,
   "metadata": {},
   "outputs": [],
   "source": [
    "model = pca(n_components=X.shape[0])\n",
    "results = model.fit_transform(X)"
   ]
  },
  {
   "cell_type": "code",
   "execution_count": null,
   "metadata": {},
   "outputs": [],
   "source": [
    "fig, ax = model.plot()"
   ]
  },
  {
   "cell_type": "code",
   "execution_count": null,
   "metadata": {},
   "outputs": [],
   "source": [
    "fig, ax = model.scatter3d()"
   ]
  },
  {
   "cell_type": "code",
   "execution_count": null,
   "metadata": {},
   "outputs": [],
   "source": [
    "fig, ax = model.biplot(n_feat=2, PC=[0,1,2], y=y)"
   ]
  },
  {
   "cell_type": "code",
   "execution_count": null,
   "metadata": {},
   "outputs": [],
   "source": [
    "model.scatter(legend=True, SPE=True, hotellingt2=True)\n",
    "model.scatter3d(legend=True, SPE=True, hotellingt2=True)"
   ]
  },
  {
   "cell_type": "code",
   "execution_count": null,
   "metadata": {},
   "outputs": [],
   "source": [
    "X[results['outliers']['y_bool'],:]"
   ]
  },
  {
   "cell_type": "code",
   "execution_count": null,
   "metadata": {},
   "outputs": [],
   "source": [
    "df_final"
   ]
  },
  {
   "cell_type": "code",
   "execution_count": null,
   "metadata": {},
   "outputs": [],
   "source": [
    "df_final.label.value_counts()"
   ]
  },
  {
   "cell_type": "code",
   "execution_count": null,
   "metadata": {},
   "outputs": [],
   "source": [
    "# plt.matshow(df_final.corr())\n",
    "\n",
    "px.imshow(df_final.drop_duplicates().corr(), text_auto=True, height=1000)\n"
   ]
  },
  {
   "cell_type": "code",
   "execution_count": null,
   "metadata": {},
   "outputs": [],
   "source": [
    "X = df_final.drop(\"src\", axis=1)\n",
    "y = df_final.label.astype(int)\n",
    "X = X.drop([\"label\"], axis=1)\n",
    "scaler = StandardScaler()\n",
    "scaler.fit(X)\n",
    "X = scaler.transform(X)\n",
    "\n",
    "model = pca(n_components=X.shape[0]);\n",
    "results = model.fit_transform(X);\n",
    "\n",
    "fig, ax = model.biplot(n_feat=2, PC=[0,1,2], y=y)"
   ]
  },
  {
   "cell_type": "code",
   "execution_count": null,
   "metadata": {},
   "outputs": [],
   "source": [
    "X_train, X_test, y_train, y_test = train_test_split(\n",
    "    X,\n",
    "    y,\n",
    "    test_size=0.2,\n",
    "    random_state=42,\n",
    ")\n",
    "\n",
    "rf = RandomForestClassifier(n_estimators=100)\n",
    "rf.fit(X_train, y_train)\n",
    "\n",
    "sorted_idx = rf.feature_importances_.argsort()\n",
    "plt.barh(\n",
    "    df_all.drop([\"label\"], axis=1).columns[sorted_idx],\n",
    "    rf.feature_importances_[sorted_idx],\n",
    ")\n",
    "plt.xlabel(\"Random Forest Feature Importance\")\n"
   ]
  },
  {
   "cell_type": "code",
   "execution_count": null,
   "metadata": {},
   "outputs": [],
   "source": [
    "y_pred = rf.predict(X_test)\n",
    "accuracy = accuracy_score(y_test, y_pred)\n",
    "print(\"Accuracy (train) for %s: %0.1f%% \" % (\"Random Forest\", accuracy * 100))"
   ]
  },
  {
   "cell_type": "code",
   "execution_count": null,
   "metadata": {},
   "outputs": [],
   "source": [
    "plt.scatter(y_pred, y_test)\n",
    "plt.scatter(y_test, y_test)"
   ]
  },
  {
   "cell_type": "code",
   "execution_count": null,
   "metadata": {},
   "outputs": [],
   "source": [
    "from sklearn.metrics import confusion_matrix\n",
    "from sklearn.metrics import ConfusionMatrixDisplay\n",
    "\n",
    "cm = confusion_matrix(y_test, y_pred)\n",
    "\n",
    "cm_display = ConfusionMatrixDisplay(cm).plot()"
   ]
  },
  {
   "cell_type": "code",
   "execution_count": null,
   "metadata": {},
   "outputs": [],
   "source": [
    "y_test.shape"
   ]
  },
  {
   "cell_type": "code",
   "execution_count": null,
   "metadata": {},
   "outputs": [],
   "source": [
    "dft_path = Path.cwd().joinpath(\n",
    "    \"..\",\n",
    "    \"data_in\",\n",
    "    \"iRoCS for Jessis course\",\n",
    "    \"test\",\n",
    "    \"C28root1 old version.csv\",\n",
    ")\n",
    "# dft_path.is_file()\n",
    "df_test = pd.read_csv(str(dft_path), sep=\";\")\n",
    "# df_test = df_test[\n",
    "#     (df_test.label < 8)\n",
    "#     & (df_test[\"distance from QC (z) (micron)\"] < 200)\n",
    "#     & (df_test.label > 0)\n",
    "# ]\n",
    "\n",
    "dropped_data = df_test[\n",
    "    [\n",
    "        \"x (micron)\",\n",
    "        \"y (micron)\",\n",
    "        \"z (micron)\",\n",
    "        \"normals\",\n",
    "        \"indices\",\n",
    "        \"vertices (micron)\",\n",
    "    ]\n",
    "]\n",
    "\n",
    "df_test = (\n",
    "    df_test.assign(y=lambda x: x.label)\n",
    "    .drop([\"x (micron)\", \"y (micron)\", \"z (micron)\"], axis=1)\n",
    "    .drop([\"normals\", \"indices\", \"vertices (micron)\"], axis=1)\n",
    ").drop([\"label\"], axis=1)\n",
    "\n",
    "df_test\n"
   ]
  },
  {
   "cell_type": "code",
   "execution_count": null,
   "metadata": {},
   "outputs": [],
   "source": [
    "Xt = df_test.drop([\"y\"], axis=1)\n",
    "Xt = scaler.transform(Xt)\n",
    "\n",
    "yt = rf.predict(Xt)"
   ]
  },
  {
   "cell_type": "code",
   "execution_count": null,
   "metadata": {},
   "outputs": [],
   "source": [
    "cm = confusion_matrix(yt, df_test.y)\n",
    "\n",
    "cm_display = ConfusionMatrixDisplay(cm).plot()"
   ]
  },
  {
   "cell_type": "code",
   "execution_count": null,
   "metadata": {},
   "outputs": [],
   "source": [
    "yt.shape"
   ]
  },
  {
   "cell_type": "code",
   "execution_count": null,
   "metadata": {},
   "outputs": [],
   "source": [
    "np.unique(yt, df_test.y.to_list())"
   ]
  },
  {
   "cell_type": "code",
   "execution_count": null,
   "metadata": {},
   "outputs": [],
   "source": [
    "plt.scatter(yt, df_test.y.to_list())"
   ]
  },
  {
   "cell_type": "code",
   "execution_count": null,
   "metadata": {},
   "outputs": [],
   "source": [
    "for c in [\n",
    "    \"x (micron)\",\n",
    "    \"y (micron)\",\n",
    "    \"z (micron)\",\n",
    "    \"normals\",\n",
    "    \"indices\",\n",
    "    \"vertices (micron)\",\n",
    "]:\n",
    "    df_test[c] = dropped_data[c]\n",
    "\n",
    "df_test.assign(label=yt).to_csv(\n",
    "    str(\n",
    "        Path.cwd().joinpath(\n",
    "            \"..\",\n",
    "            \"data_in\",\n",
    "            \"iRoCS for Jessis course\",\n",
    "            \"predicted\",\n",
    "            \"C28root1 old version.csv\",\n",
    "        )\n",
    "    ),\n",
    "    sep=\";\",\n",
    "    index=False,\n",
    ")\n"
   ]
  },
  {
   "cell_type": "code",
   "execution_count": null,
   "metadata": {},
   "outputs": [],
   "source": [
    "pd.Da"
   ]
  }
 ],
 "metadata": {
  "kernelspec": {
   "display_name": "Python 3.10.8 ('env': venv)",
   "language": "python",
   "name": "python3"
  },
  "language_info": {
   "codemirror_mode": {
    "name": "ipython",
    "version": 3
   },
   "file_extension": ".py",
   "mimetype": "text/x-python",
   "name": "python",
   "nbconvert_exporter": "python",
   "pygments_lexer": "ipython3",
   "version": "3.10.8"
  },
  "orig_nbformat": 4,
  "vscode": {
   "interpreter": {
    "hash": "57ea4112c076accd34380d1fc13840c87329161a9b2286676849023bcb84b091"
   }
  }
 },
 "nbformat": 4,
 "nbformat_minor": 2
}
