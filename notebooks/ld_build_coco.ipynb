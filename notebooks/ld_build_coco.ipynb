{
 "cells": [
  {
   "cell_type": "markdown",
   "metadata": {},
   "source": [
    "# Convert images and masks to COCO datasert"
   ]
  },
  {
   "cell_type": "markdown",
   "metadata": {},
   "source": [
    "## Imports"
   ]
  },
  {
   "cell_type": "code",
   "execution_count": null,
   "metadata": {},
   "outputs": [],
   "source": [
    "import os\n",
    "import random\n",
    "\n",
    "import IPython\n",
    "\n",
    "import cv2"
   ]
  },
  {
   "cell_type": "markdown",
   "metadata": {},
   "source": [
    "## Prepare environment"
   ]
  },
  {
   "cell_type": "code",
   "execution_count": null,
   "metadata": {},
   "outputs": [],
   "source": [
    "os.chdir(os.path.abspath(''))\n",
    "os.chdir(\"..\")\n",
    "os.getcwd()"
   ]
  },
  {
   "cell_type": "code",
   "execution_count": null,
   "metadata": {},
   "outputs": [],
   "source": [
    "%%javascript\n",
    "IPython.notebook.kernel.execute('nb_name = \"' + IPython.notebook.notebook_name + '\"')\n",
    "print(nb_name)"
   ]
  },
  {
   "cell_type": "markdown",
   "metadata": {},
   "source": [
    "## Constants"
   ]
  },
  {
   "cell_type": "code",
   "execution_count": null,
   "metadata": {},
   "outputs": [],
   "source": [
    "dataset_directory = os.path.join(\".\", \"data_in\", \"images\", \"ld_sheets\")\n",
    "\n",
    "\n",
    "root_directory = os.path.join(dataset_directory)\n",
    "images_directory = os.path.join(root_directory, \"images\")\n",
    "masks_directory = os.path.join(root_directory, \"masks\")\n"
   ]
  },
  {
   "cell_type": "markdown",
   "metadata": {},
   "source": [
    "## Generic functions"
   ]
  },
  {
   "cell_type": "code",
   "execution_count": null,
   "metadata": {},
   "outputs": [],
   "source": [
    "def get_mask_path(img_name):\n",
    "    png_path = os.path.join(masks_directory, img_name.replace(\".jpg\", \".png\"))\n",
    "    bmp_path = os.path.join(masks_directory, img_name.replace(\".jpg\", \".bmp\"))\n",
    "    return (\n",
    "        png_path\n",
    "        if os.path.isfile(png_path) is True\n",
    "        else bmp_path\n",
    "        if os.path.isfile(bmp_path)\n",
    "        else None\n",
    "    )\n",
    "\n",
    "\n",
    "def get_mask(img_name):\n",
    "    mask_path = get_mask_path(img_name)\n",
    "    if os.path.isfile(mask_path):\n",
    "        mask = cv2.imread(mask_path, cv2.IMREAD_GRAYSCALE).astype(np.float32)\n",
    "        mask[mask == 0.0] = 0.0\n",
    "        mask[mask != 0.0] = 1.0\n",
    "        return mask\n",
    "    else:\n",
    "        return None\n",
    "\n",
    "\n",
    "def get_image(img_item):\n",
    "    return {\n",
    "        \"image\": cv2.cvtColor(\n",
    "            cv2.imread(os.path.join(images_directory, img_item)),\n",
    "            cv2.COLOR_BGR2RGB,\n",
    "        ),\n",
    "        \"mask\": get_mask(img_name=img_item),\n",
    "    }\n"
   ]
  },
  {
   "cell_type": "markdown",
   "metadata": {},
   "source": [
    "## Get images and masks"
   ]
  },
  {
   "cell_type": "code",
   "execution_count": null,
   "metadata": {},
   "outputs": [],
   "source": [
    "images_filenames = list(sorted(os.listdir(images_directory)))\n",
    "correct_images_filenames = [i for i in images_filenames if cv2.imread(os.path.join(images_directory, i)) is not None]\n",
    "\n",
    "random.seed(42)\n",
    "random.shuffle(correct_images_filenames)\n",
    "\n",
    "\n",
    "bad_paths = []\n",
    "for cif in correct_images_filenames:\n",
    "    if get_mask_path(cif) is None:\n",
    "        bad_paths.append(cif)\n",
    "\n",
    "bad_paths"
   ]
  },
  {
   "cell_type": "markdown",
   "metadata": {},
   "source": []
  }
 ],
 "metadata": {
  "kernelspec": {
   "display_name": "Python 3.10.6 ('env': venv)",
   "language": "python",
   "name": "python3"
  },
  "language_info": {
   "codemirror_mode": {
    "name": "ipython",
    "version": 3
   },
   "file_extension": ".py",
   "mimetype": "text/x-python",
   "name": "python",
   "nbconvert_exporter": "python",
   "pygments_lexer": "ipython3",
   "version": "3.10.6"
  },
  "orig_nbformat": 4,
  "vscode": {
   "interpreter": {
    "hash": "57ea4112c076accd34380d1fc13840c87329161a9b2286676849023bcb84b091"
   }
  }
 },
 "nbformat": 4,
 "nbformat_minor": 2
}
