{
 "cells": [
  {
   "cell_type": "markdown",
   "metadata": {},
   "source": [
    "# Convert images and masks to COCO datasert"
   ]
  },
  {
   "cell_type": "markdown",
   "metadata": {},
   "source": [
    "## Imports"
   ]
  },
  {
   "cell_type": "code",
   "execution_count": 18,
   "metadata": {},
   "outputs": [],
   "source": [
    "import os\n",
    "import random\n",
    "\n",
    "import IPython\n",
    "\n",
    "import cv2"
   ]
  },
  {
   "cell_type": "markdown",
   "metadata": {},
   "source": [
    "## Prepare environment"
   ]
  },
  {
   "cell_type": "code",
   "execution_count": 19,
   "metadata": {},
   "outputs": [
    {
     "data": {
      "text/plain": [
       "'/'"
      ]
     },
     "execution_count": 19,
     "metadata": {},
     "output_type": "execute_result"
    }
   ],
   "source": [
    "os.chdir(os.path.abspath(''))\n",
    "os.chdir(\"..\")\n",
    "os.getcwd()"
   ]
  },
  {
   "cell_type": "code",
   "execution_count": 20,
   "metadata": {},
   "outputs": [
    {
     "data": {
      "application/javascript": "IPython.notebook.kernel.execute('nb_name = \"' + IPython.notebook.notebook_name + '\"')\nprint(nb_name)\n",
      "text/plain": [
       "<IPython.core.display.Javascript object>"
      ]
     },
     "metadata": {},
     "output_type": "display_data"
    }
   ],
   "source": [
    "%%javascript\n",
    "IPython.notebook.kernel.execute('nb_name = \"' + IPython.notebook.notebook_name + '\"')\n",
    "print(nb_name)"
   ]
  },
  {
   "cell_type": "markdown",
   "metadata": {},
   "source": [
    "## Constants"
   ]
  },
  {
   "cell_type": "code",
   "execution_count": 8,
   "metadata": {},
   "outputs": [],
   "source": [
    "dataset_directory = os.path.join(\".\", \"data_in\", \"images\", \"ld_sheets\")\n",
    "\n",
    "\n",
    "root_directory = os.path.join(dataset_directory)\n",
    "images_directory = os.path.join(root_directory, \"images\")\n",
    "masks_directory = os.path.join(root_directory, \"masks\")\n"
   ]
  },
  {
   "cell_type": "markdown",
   "metadata": {},
   "source": [
    "## Generic functions"
   ]
  },
  {
   "cell_type": "code",
   "execution_count": 9,
   "metadata": {},
   "outputs": [],
   "source": [
    "def get_mask_path(img_name):\n",
    "    png_path = os.path.join(masks_directory, img_name.replace(\".jpg\", \".png\"))\n",
    "    bmp_path = os.path.join(masks_directory, img_name.replace(\".jpg\", \".bmp\"))\n",
    "    return (\n",
    "        png_path\n",
    "        if os.path.isfile(png_path) is True\n",
    "        else bmp_path\n",
    "        if os.path.isfile(bmp_path)\n",
    "        else None\n",
    "    )\n",
    "\n",
    "\n",
    "def get_mask(img_name):\n",
    "    mask_path = get_mask_path(img_name)\n",
    "    if os.path.isfile(mask_path):\n",
    "        mask = cv2.imread(mask_path, cv2.IMREAD_GRAYSCALE).astype(np.float32)\n",
    "        mask[mask == 0.0] = 0.0\n",
    "        mask[mask != 0.0] = 1.0\n",
    "        return mask\n",
    "    else:\n",
    "        return None\n",
    "\n",
    "\n",
    "def get_image(img_item):\n",
    "    return {\n",
    "        \"image\": cv2.cvtColor(\n",
    "            cv2.imread(os.path.join(images_directory, img_item)),\n",
    "            cv2.COLOR_BGR2RGB,\n",
    "        ),\n",
    "        \"mask\": get_mask(img_name=img_item),\n",
    "    }\n"
   ]
  },
  {
   "cell_type": "markdown",
   "metadata": {},
   "source": [
    "## Get images and masks"
   ]
  },
  {
   "cell_type": "code",
   "execution_count": 10,
   "metadata": {},
   "outputs": [
    {
     "ename": "FileNotFoundError",
     "evalue": "[Errno 2] No such file or directory: './data_in/images/ld_sheets/images'",
     "output_type": "error",
     "traceback": [
      "\u001b[0;31m---------------------------------------------------------------------------\u001b[0m",
      "\u001b[0;31mFileNotFoundError\u001b[0m                         Traceback (most recent call last)",
      "\u001b[1;32m/Users/mavi/Code/python/leafdisks_powderymildew/notebooks/ld_build_coco.ipynb Cell 11\u001b[0m in \u001b[0;36m<cell line: 1>\u001b[0;34m()\u001b[0m\n\u001b[0;32m----> <a href='vscode-notebook-cell:/Users/mavi/Code/python/leafdisks_powderymildew/notebooks/ld_build_coco.ipynb#X15sZmlsZQ%3D%3D?line=0'>1</a>\u001b[0m images_filenames \u001b[39m=\u001b[39m \u001b[39mlist\u001b[39m(\u001b[39msorted\u001b[39m(os\u001b[39m.\u001b[39;49mlistdir(images_directory)))\n\u001b[1;32m      <a href='vscode-notebook-cell:/Users/mavi/Code/python/leafdisks_powderymildew/notebooks/ld_build_coco.ipynb#X15sZmlsZQ%3D%3D?line=1'>2</a>\u001b[0m correct_images_filenames \u001b[39m=\u001b[39m [i \u001b[39mfor\u001b[39;00m i \u001b[39min\u001b[39;00m images_filenames \u001b[39mif\u001b[39;00m cv2\u001b[39m.\u001b[39mimread(os\u001b[39m.\u001b[39mpath\u001b[39m.\u001b[39mjoin(images_directory, i)) \u001b[39mis\u001b[39;00m \u001b[39mnot\u001b[39;00m \u001b[39mNone\u001b[39;00m]\n\u001b[1;32m      <a href='vscode-notebook-cell:/Users/mavi/Code/python/leafdisks_powderymildew/notebooks/ld_build_coco.ipynb#X15sZmlsZQ%3D%3D?line=3'>4</a>\u001b[0m random\u001b[39m.\u001b[39mseed(\u001b[39m42\u001b[39m)\n",
      "\u001b[0;31mFileNotFoundError\u001b[0m: [Errno 2] No such file or directory: './data_in/images/ld_sheets/images'"
     ]
    }
   ],
   "source": [
    "images_filenames = list(sorted(os.listdir(images_directory)))\n",
    "correct_images_filenames = [i for i in images_filenames if cv2.imread(os.path.join(images_directory, i)) is not None]\n",
    "\n",
    "random.seed(42)\n",
    "random.shuffle(correct_images_filenames)\n",
    "\n",
    "\n",
    "bad_paths = []\n",
    "for cif in correct_images_filenames:\n",
    "    if get_mask_path(cif) is None:\n",
    "        bad_paths.append(cif)\n",
    "\n",
    "bad_paths"
   ]
  },
  {
   "cell_type": "markdown",
   "metadata": {},
   "source": []
  }
 ],
 "metadata": {
  "kernelspec": {
   "display_name": "Python 3.10.6 ('env': venv)",
   "language": "python",
   "name": "python3"
  },
  "language_info": {
   "codemirror_mode": {
    "name": "ipython",
    "version": 3
   },
   "file_extension": ".py",
   "mimetype": "text/x-python",
   "name": "python",
   "nbconvert_exporter": "python",
   "pygments_lexer": "ipython3",
   "version": "3.10.6"
  },
  "orig_nbformat": 4,
  "vscode": {
   "interpreter": {
    "hash": "57ea4112c076accd34380d1fc13840c87329161a9b2286676849023bcb84b091"
   }
  }
 },
 "nbformat": 4,
 "nbformat_minor": 2
}
