{
 "cells": [
  {
   "cell_type": "code",
   "execution_count": 5,
   "metadata": {},
   "outputs": [
    {
     "data": {
      "text/html": [
       "<div class=\"bk-root\">\n",
       "        <a href=\"https://bokeh.org\" target=\"_blank\" class=\"bk-logo bk-logo-small bk-logo-notebook\"></a>\n",
       "        <span id=\"1140\">Loading BokehJS ...</span>\n",
       "    </div>\n"
      ]
     },
     "metadata": {},
     "output_type": "display_data"
    },
    {
     "data": {
      "application/javascript": [
       "(function(root) {\n",
       "  function now() {\n",
       "    return new Date();\n",
       "  }\n",
       "\n",
       "  const force = true;\n",
       "\n",
       "  if (typeof root._bokeh_onload_callbacks === \"undefined\" || force === true) {\n",
       "    root._bokeh_onload_callbacks = [];\n",
       "    root._bokeh_is_loading = undefined;\n",
       "  }\n",
       "\n",
       "const JS_MIME_TYPE = 'application/javascript';\n",
       "  const HTML_MIME_TYPE = 'text/html';\n",
       "  const EXEC_MIME_TYPE = 'application/vnd.bokehjs_exec.v0+json';\n",
       "  const CLASS_NAME = 'output_bokeh rendered_html';\n",
       "\n",
       "  /**\n",
       "   * Render data to the DOM node\n",
       "   */\n",
       "  function render(props, node) {\n",
       "    const script = document.createElement(\"script\");\n",
       "    node.appendChild(script);\n",
       "  }\n",
       "\n",
       "  /**\n",
       "   * Handle when an output is cleared or removed\n",
       "   */\n",
       "  function handleClearOutput(event, handle) {\n",
       "    const cell = handle.cell;\n",
       "\n",
       "    const id = cell.output_area._bokeh_element_id;\n",
       "    const server_id = cell.output_area._bokeh_server_id;\n",
       "    // Clean up Bokeh references\n",
       "    if (id != null && id in Bokeh.index) {\n",
       "      Bokeh.index[id].model.document.clear();\n",
       "      delete Bokeh.index[id];\n",
       "    }\n",
       "\n",
       "    if (server_id !== undefined) {\n",
       "      // Clean up Bokeh references\n",
       "      const cmd_clean = \"from bokeh.io.state import curstate; print(curstate().uuid_to_server['\" + server_id + \"'].get_sessions()[0].document.roots[0]._id)\";\n",
       "      cell.notebook.kernel.execute(cmd_clean, {\n",
       "        iopub: {\n",
       "          output: function(msg) {\n",
       "            const id = msg.content.text.trim();\n",
       "            if (id in Bokeh.index) {\n",
       "              Bokeh.index[id].model.document.clear();\n",
       "              delete Bokeh.index[id];\n",
       "            }\n",
       "          }\n",
       "        }\n",
       "      });\n",
       "      // Destroy server and session\n",
       "      const cmd_destroy = \"import bokeh.io.notebook as ion; ion.destroy_server('\" + server_id + \"')\";\n",
       "      cell.notebook.kernel.execute(cmd_destroy);\n",
       "    }\n",
       "  }\n",
       "\n",
       "  /**\n",
       "   * Handle when a new output is added\n",
       "   */\n",
       "  function handleAddOutput(event, handle) {\n",
       "    const output_area = handle.output_area;\n",
       "    const output = handle.output;\n",
       "\n",
       "    // limit handleAddOutput to display_data with EXEC_MIME_TYPE content only\n",
       "    if ((output.output_type != \"display_data\") || (!Object.prototype.hasOwnProperty.call(output.data, EXEC_MIME_TYPE))) {\n",
       "      return\n",
       "    }\n",
       "\n",
       "    const toinsert = output_area.element.find(\".\" + CLASS_NAME.split(' ')[0]);\n",
       "\n",
       "    if (output.metadata[EXEC_MIME_TYPE][\"id\"] !== undefined) {\n",
       "      toinsert[toinsert.length - 1].firstChild.textContent = output.data[JS_MIME_TYPE];\n",
       "      // store reference to embed id on output_area\n",
       "      output_area._bokeh_element_id = output.metadata[EXEC_MIME_TYPE][\"id\"];\n",
       "    }\n",
       "    if (output.metadata[EXEC_MIME_TYPE][\"server_id\"] !== undefined) {\n",
       "      const bk_div = document.createElement(\"div\");\n",
       "      bk_div.innerHTML = output.data[HTML_MIME_TYPE];\n",
       "      const script_attrs = bk_div.children[0].attributes;\n",
       "      for (let i = 0; i < script_attrs.length; i++) {\n",
       "        toinsert[toinsert.length - 1].firstChild.setAttribute(script_attrs[i].name, script_attrs[i].value);\n",
       "        toinsert[toinsert.length - 1].firstChild.textContent = bk_div.children[0].textContent\n",
       "      }\n",
       "      // store reference to server id on output_area\n",
       "      output_area._bokeh_server_id = output.metadata[EXEC_MIME_TYPE][\"server_id\"];\n",
       "    }\n",
       "  }\n",
       "\n",
       "  function register_renderer(events, OutputArea) {\n",
       "\n",
       "    function append_mime(data, metadata, element) {\n",
       "      // create a DOM node to render to\n",
       "      const toinsert = this.create_output_subarea(\n",
       "        metadata,\n",
       "        CLASS_NAME,\n",
       "        EXEC_MIME_TYPE\n",
       "      );\n",
       "      this.keyboard_manager.register_events(toinsert);\n",
       "      // Render to node\n",
       "      const props = {data: data, metadata: metadata[EXEC_MIME_TYPE]};\n",
       "      render(props, toinsert[toinsert.length - 1]);\n",
       "      element.append(toinsert);\n",
       "      return toinsert\n",
       "    }\n",
       "\n",
       "    /* Handle when an output is cleared or removed */\n",
       "    events.on('clear_output.CodeCell', handleClearOutput);\n",
       "    events.on('delete.Cell', handleClearOutput);\n",
       "\n",
       "    /* Handle when a new output is added */\n",
       "    events.on('output_added.OutputArea', handleAddOutput);\n",
       "\n",
       "    /**\n",
       "     * Register the mime type and append_mime function with output_area\n",
       "     */\n",
       "    OutputArea.prototype.register_mime_type(EXEC_MIME_TYPE, append_mime, {\n",
       "      /* Is output safe? */\n",
       "      safe: true,\n",
       "      /* Index of renderer in `output_area.display_order` */\n",
       "      index: 0\n",
       "    });\n",
       "  }\n",
       "\n",
       "  // register the mime type if in Jupyter Notebook environment and previously unregistered\n",
       "  if (root.Jupyter !== undefined) {\n",
       "    const events = require('base/js/events');\n",
       "    const OutputArea = require('notebook/js/outputarea').OutputArea;\n",
       "\n",
       "    if (OutputArea.prototype.mime_types().indexOf(EXEC_MIME_TYPE) == -1) {\n",
       "      register_renderer(events, OutputArea);\n",
       "    }\n",
       "  }\n",
       "  if (typeof (root._bokeh_timeout) === \"undefined\" || force === true) {\n",
       "    root._bokeh_timeout = Date.now() + 5000;\n",
       "    root._bokeh_failed_load = false;\n",
       "  }\n",
       "\n",
       "  const NB_LOAD_WARNING = {'data': {'text/html':\n",
       "     \"<div style='background-color: #fdd'>\\n\"+\n",
       "     \"<p>\\n\"+\n",
       "     \"BokehJS does not appear to have successfully loaded. If loading BokehJS from CDN, this \\n\"+\n",
       "     \"may be due to a slow or bad network connection. Possible fixes:\\n\"+\n",
       "     \"</p>\\n\"+\n",
       "     \"<ul>\\n\"+\n",
       "     \"<li>re-rerun `output_notebook()` to attempt to load from CDN again, or</li>\\n\"+\n",
       "     \"<li>use INLINE resources instead, as so:</li>\\n\"+\n",
       "     \"</ul>\\n\"+\n",
       "     \"<code>\\n\"+\n",
       "     \"from bokeh.resources import INLINE\\n\"+\n",
       "     \"output_notebook(resources=INLINE)\\n\"+\n",
       "     \"</code>\\n\"+\n",
       "     \"</div>\"}};\n",
       "\n",
       "  function display_loaded() {\n",
       "    const el = document.getElementById(\"1140\");\n",
       "    if (el != null) {\n",
       "      el.textContent = \"BokehJS is loading...\";\n",
       "    }\n",
       "    if (root.Bokeh !== undefined) {\n",
       "      if (el != null) {\n",
       "        el.textContent = \"BokehJS \" + root.Bokeh.version + \" successfully loaded.\";\n",
       "      }\n",
       "    } else if (Date.now() < root._bokeh_timeout) {\n",
       "      setTimeout(display_loaded, 100)\n",
       "    }\n",
       "  }\n",
       "\n",
       "  function run_callbacks() {\n",
       "    try {\n",
       "      root._bokeh_onload_callbacks.forEach(function(callback) {\n",
       "        if (callback != null)\n",
       "          callback();\n",
       "      });\n",
       "    } finally {\n",
       "      delete root._bokeh_onload_callbacks\n",
       "    }\n",
       "    console.debug(\"Bokeh: all callbacks have finished\");\n",
       "  }\n",
       "\n",
       "  function load_libs(css_urls, js_urls, callback) {\n",
       "    if (css_urls == null) css_urls = [];\n",
       "    if (js_urls == null) js_urls = [];\n",
       "\n",
       "    root._bokeh_onload_callbacks.push(callback);\n",
       "    if (root._bokeh_is_loading > 0) {\n",
       "      console.debug(\"Bokeh: BokehJS is being loaded, scheduling callback at\", now());\n",
       "      return null;\n",
       "    }\n",
       "    if (js_urls == null || js_urls.length === 0) {\n",
       "      run_callbacks();\n",
       "      return null;\n",
       "    }\n",
       "    console.debug(\"Bokeh: BokehJS not loaded, scheduling load and callback at\", now());\n",
       "    root._bokeh_is_loading = css_urls.length + js_urls.length;\n",
       "\n",
       "    function on_load() {\n",
       "      root._bokeh_is_loading--;\n",
       "      if (root._bokeh_is_loading === 0) {\n",
       "        console.debug(\"Bokeh: all BokehJS libraries/stylesheets loaded\");\n",
       "        run_callbacks()\n",
       "      }\n",
       "    }\n",
       "\n",
       "    function on_error(url) {\n",
       "      console.error(\"failed to load \" + url);\n",
       "    }\n",
       "\n",
       "    for (let i = 0; i < css_urls.length; i++) {\n",
       "      const url = css_urls[i];\n",
       "      const element = document.createElement(\"link\");\n",
       "      element.onload = on_load;\n",
       "      element.onerror = on_error.bind(null, url);\n",
       "      element.rel = \"stylesheet\";\n",
       "      element.type = \"text/css\";\n",
       "      element.href = url;\n",
       "      console.debug(\"Bokeh: injecting link tag for BokehJS stylesheet: \", url);\n",
       "      document.body.appendChild(element);\n",
       "    }\n",
       "\n",
       "    for (let i = 0; i < js_urls.length; i++) {\n",
       "      const url = js_urls[i];\n",
       "      const element = document.createElement('script');\n",
       "      element.onload = on_load;\n",
       "      element.onerror = on_error.bind(null, url);\n",
       "      element.async = false;\n",
       "      element.src = url;\n",
       "      console.debug(\"Bokeh: injecting script tag for BokehJS library: \", url);\n",
       "      document.head.appendChild(element);\n",
       "    }\n",
       "  };\n",
       "\n",
       "  function inject_raw_css(css) {\n",
       "    const element = document.createElement(\"style\");\n",
       "    element.appendChild(document.createTextNode(css));\n",
       "    document.body.appendChild(element);\n",
       "  }\n",
       "\n",
       "  const js_urls = [\"https://cdn.bokeh.org/bokeh/release/bokeh-2.4.3.min.js\", \"https://cdn.bokeh.org/bokeh/release/bokeh-gl-2.4.3.min.js\", \"https://cdn.bokeh.org/bokeh/release/bokeh-widgets-2.4.3.min.js\", \"https://cdn.bokeh.org/bokeh/release/bokeh-tables-2.4.3.min.js\", \"https://cdn.bokeh.org/bokeh/release/bokeh-mathjax-2.4.3.min.js\"];\n",
       "  const css_urls = [];\n",
       "\n",
       "  const inline_js = [    function(Bokeh) {\n",
       "      Bokeh.set_log_level(\"info\");\n",
       "    },\n",
       "function(Bokeh) {\n",
       "    }\n",
       "  ];\n",
       "\n",
       "  function run_inline_js() {\n",
       "    if (root.Bokeh !== undefined || force === true) {\n",
       "          for (let i = 0; i < inline_js.length; i++) {\n",
       "      inline_js[i].call(root, root.Bokeh);\n",
       "    }\n",
       "if (force === true) {\n",
       "        display_loaded();\n",
       "      }} else if (Date.now() < root._bokeh_timeout) {\n",
       "      setTimeout(run_inline_js, 100);\n",
       "    } else if (!root._bokeh_failed_load) {\n",
       "      console.log(\"Bokeh: BokehJS failed to load within specified timeout.\");\n",
       "      root._bokeh_failed_load = true;\n",
       "    } else if (force !== true) {\n",
       "      const cell = $(document.getElementById(\"1140\")).parents('.cell').data().cell;\n",
       "      cell.output_area.append_execute_result(NB_LOAD_WARNING)\n",
       "    }\n",
       "  }\n",
       "\n",
       "  if (root._bokeh_is_loading === 0) {\n",
       "    console.debug(\"Bokeh: BokehJS loaded, going straight to plotting\");\n",
       "    run_inline_js();\n",
       "  } else {\n",
       "    load_libs(css_urls, js_urls, function() {\n",
       "      console.debug(\"Bokeh: BokehJS plotting callback run at\", now());\n",
       "      run_inline_js();\n",
       "    });\n",
       "  }\n",
       "}(window));"
      ],
      "application/vnd.bokehjs_load.v0+json": ""
     },
     "metadata": {},
     "output_type": "display_data"
    }
   ],
   "source": [
    "from bokeh.plotting import figure, show\n",
    "from bokeh.io import output_notebook\n",
    "\n",
    "output_notebook()"
   ]
  },
  {
   "cell_type": "code",
   "execution_count": 6,
   "metadata": {},
   "outputs": [],
   "source": [
    "# prepare some data\n",
    "x = [1, 2, 3, 4, 5]\n",
    "y = [6, 7, 2, 4, 5]"
   ]
  },
  {
   "cell_type": "code",
   "execution_count": 11,
   "metadata": {},
   "outputs": [
    {
     "data": {
      "text/html": [
       "<div style=\"display: table;\"><div style=\"display: table-row;\"><div style=\"display: table-cell;\"><b title=\"bokeh.models.renderers.GlyphRenderer\">GlyphRenderer</b>(</div><div style=\"display: table-cell;\">id&nbsp;=&nbsp;'2112', <span id=\"2127\" style=\"cursor: pointer;\">&hellip;)</span></div></div><div class=\"2126\" style=\"display: none;\"><div style=\"display: table-cell;\"></div><div style=\"display: table-cell;\">coordinates&nbsp;=&nbsp;None,</div></div><div class=\"2126\" style=\"display: none;\"><div style=\"display: table-cell;\"></div><div style=\"display: table-cell;\">data_source&nbsp;=&nbsp;ColumnDataSource(id='2108', ...),</div></div><div class=\"2126\" style=\"display: none;\"><div style=\"display: table-cell;\"></div><div style=\"display: table-cell;\">glyph&nbsp;=&nbsp;Line(id='2109', ...),</div></div><div class=\"2126\" style=\"display: none;\"><div style=\"display: table-cell;\"></div><div style=\"display: table-cell;\">group&nbsp;=&nbsp;None,</div></div><div class=\"2126\" style=\"display: none;\"><div style=\"display: table-cell;\"></div><div style=\"display: table-cell;\">hover_glyph&nbsp;=&nbsp;None,</div></div><div class=\"2126\" style=\"display: none;\"><div style=\"display: table-cell;\"></div><div style=\"display: table-cell;\">js_event_callbacks&nbsp;=&nbsp;{},</div></div><div class=\"2126\" style=\"display: none;\"><div style=\"display: table-cell;\"></div><div style=\"display: table-cell;\">js_property_callbacks&nbsp;=&nbsp;{},</div></div><div class=\"2126\" style=\"display: none;\"><div style=\"display: table-cell;\"></div><div style=\"display: table-cell;\">level&nbsp;=&nbsp;'glyph',</div></div><div class=\"2126\" style=\"display: none;\"><div style=\"display: table-cell;\"></div><div style=\"display: table-cell;\">muted&nbsp;=&nbsp;False,</div></div><div class=\"2126\" style=\"display: none;\"><div style=\"display: table-cell;\"></div><div style=\"display: table-cell;\">muted_glyph&nbsp;=&nbsp;Line(id='2111', ...),</div></div><div class=\"2126\" style=\"display: none;\"><div style=\"display: table-cell;\"></div><div style=\"display: table-cell;\">name&nbsp;=&nbsp;None,</div></div><div class=\"2126\" style=\"display: none;\"><div style=\"display: table-cell;\"></div><div style=\"display: table-cell;\">nonselection_glyph&nbsp;=&nbsp;Line(id='2110', ...),</div></div><div class=\"2126\" style=\"display: none;\"><div style=\"display: table-cell;\"></div><div style=\"display: table-cell;\">selection_glyph&nbsp;=&nbsp;'auto',</div></div><div class=\"2126\" style=\"display: none;\"><div style=\"display: table-cell;\"></div><div style=\"display: table-cell;\">subscribed_events&nbsp;=&nbsp;[],</div></div><div class=\"2126\" style=\"display: none;\"><div style=\"display: table-cell;\"></div><div style=\"display: table-cell;\">syncable&nbsp;=&nbsp;True,</div></div><div class=\"2126\" style=\"display: none;\"><div style=\"display: table-cell;\"></div><div style=\"display: table-cell;\">tags&nbsp;=&nbsp;[],</div></div><div class=\"2126\" style=\"display: none;\"><div style=\"display: table-cell;\"></div><div style=\"display: table-cell;\">view&nbsp;=&nbsp;CDSView(id='2113', ...),</div></div><div class=\"2126\" style=\"display: none;\"><div style=\"display: table-cell;\"></div><div style=\"display: table-cell;\">visible&nbsp;=&nbsp;True,</div></div><div class=\"2126\" style=\"display: none;\"><div style=\"display: table-cell;\"></div><div style=\"display: table-cell;\">x_range_name&nbsp;=&nbsp;'default',</div></div><div class=\"2126\" style=\"display: none;\"><div style=\"display: table-cell;\"></div><div style=\"display: table-cell;\">y_range_name&nbsp;=&nbsp;'default')</div></div></div>\n",
       "<script>\n",
       "(function() {\n",
       "  let expanded = false;\n",
       "  const ellipsis = document.getElementById(\"2127\");\n",
       "  ellipsis.addEventListener(\"click\", function() {\n",
       "    const rows = document.getElementsByClassName(\"2126\");\n",
       "    for (let i = 0; i < rows.length; i++) {\n",
       "      const el = rows[i];\n",
       "      el.style.display = expanded ? \"none\" : \"table-row\";\n",
       "    }\n",
       "    ellipsis.innerHTML = expanded ? \"&hellip;)\" : \"&lsaquo;&lsaquo;&lsaquo;\";\n",
       "    expanded = !expanded;\n",
       "  });\n",
       "})();\n",
       "</script>\n"
      ],
      "text/plain": [
       "GlyphRenderer(id='2112', ...)"
      ]
     },
     "execution_count": 11,
     "metadata": {},
     "output_type": "execute_result"
    }
   ],
   "source": [
    "# create a new plot with a title and axis labels\n",
    "p = figure(title=\"Simple line example\", x_axis_label='x', y_axis_label='y')\n",
    "\n",
    "p.line(x, y, legend_label=\"Temp.\", line_width=2)"
   ]
  },
  {
   "cell_type": "code",
   "execution_count": 12,
   "metadata": {},
   "outputs": [
    {
     "data": {
      "text/html": [
       "\n",
       "  <div class=\"bk-root\" id=\"ad4a3bc1-eb4f-45fb-a394-1132f2e99f65\" data-root-id=\"2075\"></div>\n"
      ]
     },
     "metadata": {},
     "output_type": "display_data"
    },
    {
     "data": {
      "application/javascript": [
       "(function(root) {\n",
       "  function embed_document(root) {\n",
       "  const docs_json = {\"5606bb6d-e5f6-4a2c-ad7f-553b682eeef0\":{\"defs\":[],\"roots\":{\"references\":[{\"attributes\":{\"below\":[{\"id\":\"2086\"}],\"center\":[{\"id\":\"2089\"},{\"id\":\"2093\"},{\"id\":\"2124\"}],\"left\":[{\"id\":\"2090\"}],\"renderers\":[{\"id\":\"2112\"}],\"title\":{\"id\":\"2076\"},\"toolbar\":{\"id\":\"2101\"},\"x_range\":{\"id\":\"2078\"},\"x_scale\":{\"id\":\"2082\"},\"y_range\":{\"id\":\"2080\"},\"y_scale\":{\"id\":\"2084\"}},\"id\":\"2075\",\"subtype\":\"Figure\",\"type\":\"Plot\"},{\"attributes\":{},\"id\":\"2080\",\"type\":\"DataRange1d\"},{\"attributes\":{},\"id\":\"2095\",\"type\":\"WheelZoomTool\"},{\"attributes\":{\"coordinates\":null,\"data_source\":{\"id\":\"2108\"},\"glyph\":{\"id\":\"2109\"},\"group\":null,\"hover_glyph\":null,\"muted_glyph\":{\"id\":\"2111\"},\"nonselection_glyph\":{\"id\":\"2110\"},\"view\":{\"id\":\"2113\"}},\"id\":\"2112\",\"type\":\"GlyphRenderer\"},{\"attributes\":{\"axis\":{\"id\":\"2090\"},\"coordinates\":null,\"dimension\":1,\"group\":null,\"ticker\":null},\"id\":\"2093\",\"type\":\"Grid\"},{\"attributes\":{},\"id\":\"2097\",\"type\":\"SaveTool\"},{\"attributes\":{},\"id\":\"2119\",\"type\":\"BasicTickFormatter\"},{\"attributes\":{},\"id\":\"2122\",\"type\":\"Selection\"},{\"attributes\":{\"line_color\":\"#1f77b4\",\"line_width\":2,\"x\":{\"field\":\"x\"},\"y\":{\"field\":\"y\"}},\"id\":\"2109\",\"type\":\"Line\"},{\"attributes\":{\"source\":{\"id\":\"2108\"}},\"id\":\"2113\",\"type\":\"CDSView\"},{\"attributes\":{\"line_alpha\":0.1,\"line_color\":\"#1f77b4\",\"line_width\":2,\"x\":{\"field\":\"x\"},\"y\":{\"field\":\"y\"}},\"id\":\"2110\",\"type\":\"Line\"},{\"attributes\":{\"coordinates\":null,\"group\":null,\"text\":\"Simple line example\"},\"id\":\"2076\",\"type\":\"Title\"},{\"attributes\":{\"coordinates\":null,\"group\":null,\"items\":[{\"id\":\"2125\"}]},\"id\":\"2124\",\"type\":\"Legend\"},{\"attributes\":{\"label\":{\"value\":\"Temp.\"},\"renderers\":[{\"id\":\"2112\"}]},\"id\":\"2125\",\"type\":\"LegendItem\"},{\"attributes\":{},\"id\":\"2121\",\"type\":\"UnionRenderers\"},{\"attributes\":{\"bottom_units\":\"screen\",\"coordinates\":null,\"fill_alpha\":0.5,\"fill_color\":\"lightgrey\",\"group\":null,\"left_units\":\"screen\",\"level\":\"overlay\",\"line_alpha\":1.0,\"line_color\":\"black\",\"line_dash\":[4,4],\"line_width\":2,\"right_units\":\"screen\",\"syncable\":false,\"top_units\":\"screen\"},\"id\":\"2100\",\"type\":\"BoxAnnotation\"},{\"attributes\":{\"line_alpha\":0.2,\"line_color\":\"#1f77b4\",\"line_width\":2,\"x\":{\"field\":\"x\"},\"y\":{\"field\":\"y\"}},\"id\":\"2111\",\"type\":\"Line\"},{\"attributes\":{\"axis_label\":\"y\",\"coordinates\":null,\"formatter\":{\"id\":\"2116\"},\"group\":null,\"major_label_policy\":{\"id\":\"2117\"},\"ticker\":{\"id\":\"2091\"}},\"id\":\"2090\",\"type\":\"LinearAxis\"},{\"attributes\":{},\"id\":\"2082\",\"type\":\"LinearScale\"},{\"attributes\":{},\"id\":\"2087\",\"type\":\"BasicTicker\"},{\"attributes\":{\"axis_label\":\"x\",\"coordinates\":null,\"formatter\":{\"id\":\"2119\"},\"group\":null,\"major_label_policy\":{\"id\":\"2120\"},\"ticker\":{\"id\":\"2087\"}},\"id\":\"2086\",\"type\":\"LinearAxis\"},{\"attributes\":{},\"id\":\"2094\",\"type\":\"PanTool\"},{\"attributes\":{},\"id\":\"2078\",\"type\":\"DataRange1d\"},{\"attributes\":{},\"id\":\"2098\",\"type\":\"ResetTool\"},{\"attributes\":{},\"id\":\"2117\",\"type\":\"AllLabels\"},{\"attributes\":{},\"id\":\"2120\",\"type\":\"AllLabels\"},{\"attributes\":{\"tools\":[{\"id\":\"2094\"},{\"id\":\"2095\"},{\"id\":\"2096\"},{\"id\":\"2097\"},{\"id\":\"2098\"},{\"id\":\"2099\"}]},\"id\":\"2101\",\"type\":\"Toolbar\"},{\"attributes\":{\"overlay\":{\"id\":\"2100\"}},\"id\":\"2096\",\"type\":\"BoxZoomTool\"},{\"attributes\":{\"axis\":{\"id\":\"2086\"},\"coordinates\":null,\"group\":null,\"ticker\":null},\"id\":\"2089\",\"type\":\"Grid\"},{\"attributes\":{},\"id\":\"2099\",\"type\":\"HelpTool\"},{\"attributes\":{},\"id\":\"2091\",\"type\":\"BasicTicker\"},{\"attributes\":{},\"id\":\"2116\",\"type\":\"BasicTickFormatter\"},{\"attributes\":{},\"id\":\"2084\",\"type\":\"LinearScale\"},{\"attributes\":{\"data\":{\"x\":[1,2,3,4,5],\"y\":[6,7,2,4,5]},\"selected\":{\"id\":\"2122\"},\"selection_policy\":{\"id\":\"2121\"}},\"id\":\"2108\",\"type\":\"ColumnDataSource\"}],\"root_ids\":[\"2075\"]},\"title\":\"Bokeh Application\",\"version\":\"2.4.3\"}};\n",
       "  const render_items = [{\"docid\":\"5606bb6d-e5f6-4a2c-ad7f-553b682eeef0\",\"root_ids\":[\"2075\"],\"roots\":{\"2075\":\"ad4a3bc1-eb4f-45fb-a394-1132f2e99f65\"}}];\n",
       "  root.Bokeh.embed.embed_items_notebook(docs_json, render_items);\n",
       "  }\n",
       "  if (root.Bokeh !== undefined) {\n",
       "    embed_document(root);\n",
       "  } else {\n",
       "    let attempts = 0;\n",
       "    const timer = setInterval(function(root) {\n",
       "      if (root.Bokeh !== undefined) {\n",
       "        clearInterval(timer);\n",
       "        embed_document(root);\n",
       "      } else {\n",
       "        attempts++;\n",
       "        if (attempts > 100) {\n",
       "          clearInterval(timer);\n",
       "          console.log(\"Bokeh: ERROR: Unable to run BokehJS code because BokehJS library is missing\");\n",
       "        }\n",
       "      }\n",
       "    }, 10, root)\n",
       "  }\n",
       "})(window);"
      ],
      "application/vnd.bokehjs_exec.v0+json": ""
     },
     "metadata": {
      "application/vnd.bokehjs_exec.v0+json": {
       "id": "2075"
      }
     },
     "output_type": "display_data"
    }
   ],
   "source": [
    "# show the results\n",
    "show(p)"
   ]
  },
  {
   "cell_type": "code",
   "execution_count": 9,
   "metadata": {},
   "outputs": [
    {
     "data": {
      "text/html": [
       "\n",
       "  <div class=\"bk-root\" id=\"420861a8-60dc-4251-9ffe-683af71d5809\" data-root-id=\"1562\"></div>\n"
      ]
     },
     "metadata": {},
     "output_type": "display_data"
    },
    {
     "data": {
      "application/javascript": [
       "(function(root) {\n",
       "  function embed_document(root) {\n",
       "  const docs_json = {\"bee39e97-f836-4c43-a206-e33c92ad2d8e\":{\"defs\":[],\"roots\":{\"references\":[{\"attributes\":{\"children\":[{\"id\":\"1253\"},{\"id\":\"1321\"},{\"id\":\"1389\"},{\"id\":\"1457\"},{\"id\":\"1525\"}]},\"id\":\"1562\",\"type\":\"Column\"},{\"attributes\":{\"line_color\":\"#1f77b4\",\"x\":{\"field\":\"x\"},\"y\":{\"field\":\"y\"}},\"id\":\"1557\",\"type\":\"Line\"},{\"attributes\":{},\"id\":\"1409\",\"type\":\"SaveTool\"},{\"attributes\":{},\"id\":\"1623\",\"type\":\"UnionRenderers\"},{\"attributes\":{\"axis_label\":\"x\",\"coordinates\":null,\"formatter\":{\"id\":\"1603\"},\"group\":null,\"major_label_policy\":{\"id\":\"1604\"},\"ticker\":{\"id\":\"1467\"}},\"id\":\"1466\",\"type\":\"LinearAxis\"},{\"attributes\":{\"overlay\":{\"id\":\"1412\"}},\"id\":\"1408\",\"type\":\"BoxZoomTool\"},{\"attributes\":{},\"id\":\"1406\",\"type\":\"PanTool\"},{\"attributes\":{},\"id\":\"1263\",\"type\":\"BasicTicker\"},{\"attributes\":{},\"id\":\"1624\",\"type\":\"Selection\"},{\"attributes\":{\"data\":{\"x\":{\"__ndarray__\":\"AAAAAAAAAAB7FK5H4XqEP3sUrkfhepQ/uB6F61G4nj97FK5H4XqkP5qZmZmZmak/uB6F61G4rj/sUbgeheuxP3sUrkfherQ/CtejcD0Ktz+amZmZmZm5Pylcj8L1KLw/uB6F61G4vj+kcD0K16PAP+xRuB6F68E/MzMzMzMzwz97FK5H4XrEP8P1KFyPwsU/CtejcD0Kxz9SuB6F61HIP5qZmZmZmck/4XoUrkfhyj8pXI/C9SjMP3E9CtejcM0/uB6F61G4zj8AAAAAAADQP6RwPQrXo9A/SOF6FK5H0T/sUbgehevRP4/C9Shcj9I/MzMzMzMz0z/Xo3A9CtfTP3sUrkfhetQ/H4XrUbge1T/D9Shcj8LVP2dmZmZmZtY/CtejcD0K1z+uR+F6FK7XP1K4HoXrUdg/9ihcj8L12D+amZmZmZnZPz4K16NwPdo/4XoUrkfh2j+F61G4HoXbPylcj8L1KNw/zczMzMzM3D9xPQrXo3DdPxWuR+F6FN4/uB6F61G43j9cj8L1KFzfPwAAAAAAAOA/UrgehetR4D+kcD0K16PgP/YoXI/C9eA/SOF6FK5H4T+amZmZmZnhP+xRuB6F6+E/PgrXo3A94j+PwvUoXI/iP+F6FK5H4eI/MzMzMzMz4z+F61G4HoXjP9ejcD0K1+M/KVyPwvUo5D97FK5H4XrkP83MzMzMzOQ/H4XrUbge5T9xPQrXo3DlP8P1KFyPwuU/Fa5H4XoU5j9nZmZmZmbmP7gehetRuOY/CtejcD0K5z9cj8L1KFznP65H4XoUruc/AAAAAAAA6D9SuB6F61HoP6RwPQrXo+g/9ihcj8L16D9I4XoUrkfpP5qZmZmZmek/7FG4HoXr6T8+CtejcD3qP5DC9Shcj+o/4XoUrkfh6j8zMzMzMzPrP4XrUbgehes/16NwPQrX6z8pXI/C9SjsP3sUrkfheuw/zczMzMzM7D8fhetRuB7tP3E9CtejcO0/w/UoXI/C7T8VrkfhehTuP2dmZmZmZu4/uB6F61G47j8K16NwPQrvP1yPwvUoXO8/rkfhehSu7z8=\",\"dtype\":\"float64\",\"order\":\"little\",\"shape\":[100]},\"y\":{\"__ndarray__\":\"AAAAAAAAAAB5k+AbChOwP+BboV3rCsA/eHoDZRz8xz+WBxz6EdXPP0/pLzfvxtM/GKmoSFqP1z+dgSXJ9z/bP1Kpv1wN1d4/USsYPH4l4T9eWnUEI8/iP7sBtf7GZeQ/EyARVc/n5T8WuNIDtlPnP+prW2MLqOg/qPSXm3fj6T+GLmT/uwTrP1rAgU60Cuw/jBXc3Ff07D/kWu+dusDtP/9URBMOb+4/4B4QHaL+7j/+CSWs5W7vPwPZgFRnv+8//kPkv9Xv7z8AAAAAAADwP/5D5L/V7+8/AtmAVGe/7z/+CSWs5W7vP+EeEB2i/u4/AFVEEw5v7j/lWu+dusDtP4sV3NxX9Ow/WMCBTrQK7D+FLmT/uwTrP6j0l5t34+k/6mtbYwuo6D8VuNIDtlPnPxUgEVXP5+U/vQG1/sZl5D9fWnUEI8/iP1ErGDx+JeE/V6m/XA3V3j+ggSXJ9z/bPxypqEhaj9c/UekvN+/G0z+XBxz6EdXPP3d6A2Uc/Mc/6luhXesKwD+Ik+AbChOwPwdcFDMmpqE8d5PgGwoTsL/hW6Fd6wrAv356A2Uc/Me/ngcc+hHVz79V6S8378bTvx+pqEhaj9e/nIElyfc/279Mqb9cDdXev08rGDx+JeG/XVp1BCPP4r+7AbX+xmXkvxQgEVXP5+W/FLjSA7ZT57/ra1tjC6jov6f0l5t34+m/iC5k/7sE679ZwIFOtArsv44V3NxX9Oy/5VrvnbrA7b//VEQTDm/uv98eEB2i/u6//wklrOVu778C2YBUZ7/vv/5D5L/V7++/AAAAAAAA8L/+Q+S/1e/vvwPZgFRnv++//wklrOVu77/gHhAdov7uvwBVRBMOb+6/41rvnbrA7b+MFdzcV/Tsv1fAgU60Cuy/ii5k/7sE67+p9Jebd+Ppv+1rW2MLqOi/FrjSA7ZT578WIBFVz+flv7sBtf7GZeS/YFp1BCPP4r9OKxg8fiXhv1Kpv1wN1d6/lIElyfc/278XqahIWo/Xv1TpLzfvxtO/qgcc+hHVz797egNlHPzHv+5boV3rCsC/cZPgGwoTsL8=\",\"dtype\":\"float64\",\"order\":\"little\",\"shape\":[100]}},\"selected\":{\"id\":\"1612\"},\"selection_policy\":{\"id\":\"1611\"}},\"id\":\"1284\",\"type\":\"ColumnDataSource\"},{\"attributes\":{\"line_color\":\"#1f77b4\",\"x\":{\"field\":\"x\"},\"y\":{\"field\":\"y\"}},\"id\":\"1285\",\"type\":\"Line\"},{\"attributes\":{\"coordinates\":null,\"data_source\":{\"id\":\"1352\"},\"glyph\":{\"id\":\"1353\"},\"group\":null,\"hover_glyph\":null,\"muted_glyph\":{\"id\":\"1355\"},\"nonselection_glyph\":{\"id\":\"1354\"},\"view\":{\"id\":\"1357\"}},\"id\":\"1356\",\"type\":\"GlyphRenderer\"},{\"attributes\":{},\"id\":\"1411\",\"type\":\"HelpTool\"},{\"attributes\":{\"line_alpha\":0.2,\"line_color\":\"#1f77b4\",\"x\":{\"field\":\"x\"},\"y\":{\"field\":\"y\"}},\"id\":\"1287\",\"type\":\"Line\"},{\"attributes\":{\"tools\":[{\"id\":\"1406\"},{\"id\":\"1407\"},{\"id\":\"1408\"},{\"id\":\"1409\"},{\"id\":\"1410\"},{\"id\":\"1411\"}]},\"id\":\"1413\",\"type\":\"Toolbar\"},{\"attributes\":{},\"id\":\"1606\",\"type\":\"BasicTickFormatter\"},{\"attributes\":{\"line_alpha\":0.1,\"line_color\":\"#1f77b4\",\"x\":{\"field\":\"x\"},\"y\":{\"field\":\"y\"}},\"id\":\"1286\",\"type\":\"Line\"},{\"attributes\":{},\"id\":\"1256\",\"type\":\"DataRange1d\"},{\"attributes\":{\"axis\":{\"id\":\"1402\"},\"coordinates\":null,\"dimension\":1,\"group\":null,\"ticker\":null},\"id\":\"1405\",\"type\":\"Grid\"},{\"attributes\":{},\"id\":\"1607\",\"type\":\"AllLabels\"},{\"attributes\":{\"axis\":{\"id\":\"1538\"},\"coordinates\":null,\"dimension\":1,\"group\":null,\"ticker\":null},\"id\":\"1541\",\"type\":\"Grid\"},{\"attributes\":{},\"id\":\"1403\",\"type\":\"BasicTicker\"},{\"attributes\":{},\"id\":\"1609\",\"type\":\"BasicTickFormatter\"},{\"attributes\":{},\"id\":\"1610\",\"type\":\"AllLabels\"},{\"attributes\":{\"line_alpha\":0.2,\"line_color\":\"#1f77b4\",\"x\":{\"field\":\"x\"},\"y\":{\"field\":\"y\"}},\"id\":\"1491\",\"type\":\"Line\"},{\"attributes\":{\"coordinates\":null,\"data_source\":{\"id\":\"1420\"},\"glyph\":{\"id\":\"1421\"},\"group\":null,\"hover_glyph\":null,\"muted_glyph\":{\"id\":\"1423\"},\"nonselection_glyph\":{\"id\":\"1422\"},\"view\":{\"id\":\"1425\"}},\"id\":\"1424\",\"type\":\"GlyphRenderer\"},{\"attributes\":{},\"id\":\"1526\",\"type\":\"DataRange1d\"},{\"attributes\":{\"line_color\":\"#1f77b4\",\"x\":{\"field\":\"x\"},\"y\":{\"field\":\"y\"}},\"id\":\"1353\",\"type\":\"Line\"},{\"attributes\":{\"bottom_units\":\"screen\",\"coordinates\":null,\"fill_alpha\":0.5,\"fill_color\":\"lightgrey\",\"group\":null,\"left_units\":\"screen\",\"level\":\"overlay\",\"line_alpha\":1.0,\"line_color\":\"black\",\"line_dash\":[4,4],\"line_width\":2,\"right_units\":\"screen\",\"syncable\":false,\"top_units\":\"screen\"},\"id\":\"1276\",\"type\":\"BoxAnnotation\"},{\"attributes\":{\"coordinates\":null,\"data_source\":{\"id\":\"1556\"},\"glyph\":{\"id\":\"1557\"},\"group\":null,\"hover_glyph\":null,\"muted_glyph\":{\"id\":\"1559\"},\"nonselection_glyph\":{\"id\":\"1558\"},\"view\":{\"id\":\"1561\"}},\"id\":\"1560\",\"type\":\"GlyphRenderer\"},{\"attributes\":{},\"id\":\"1585\",\"type\":\"BasicTickFormatter\"},{\"attributes\":{},\"id\":\"1582\",\"type\":\"BasicTickFormatter\"},{\"attributes\":{},\"id\":\"1539\",\"type\":\"BasicTicker\"},{\"attributes\":{},\"id\":\"1322\",\"type\":\"DataRange1d\"},{\"attributes\":{\"source\":{\"id\":\"1420\"}},\"id\":\"1425\",\"type\":\"CDSView\"},{\"attributes\":{},\"id\":\"1547\",\"type\":\"HelpTool\"},{\"attributes\":{},\"id\":\"1254\",\"type\":\"DataRange1d\"},{\"attributes\":{},\"id\":\"1611\",\"type\":\"UnionRenderers\"},{\"attributes\":{},\"id\":\"1542\",\"type\":\"PanTool\"},{\"attributes\":{\"overlay\":{\"id\":\"1548\"}},\"id\":\"1544\",\"type\":\"BoxZoomTool\"},{\"attributes\":{},\"id\":\"1545\",\"type\":\"SaveTool\"},{\"attributes\":{},\"id\":\"1612\",\"type\":\"Selection\"},{\"attributes\":{},\"id\":\"1546\",\"type\":\"ResetTool\"},{\"attributes\":{\"below\":[{\"id\":\"1330\"}],\"center\":[{\"id\":\"1333\"},{\"id\":\"1337\"}],\"height\":100,\"left\":[{\"id\":\"1334\"}],\"renderers\":[{\"id\":\"1356\"}],\"title\":{\"id\":\"1573\"},\"toolbar\":{\"id\":\"1345\"},\"width\":500,\"x_range\":{\"id\":\"1322\"},\"x_scale\":{\"id\":\"1326\"},\"y_range\":{\"id\":\"1324\"},\"y_scale\":{\"id\":\"1328\"}},\"id\":\"1321\",\"subtype\":\"Figure\",\"type\":\"Plot\"},{\"attributes\":{\"axis\":{\"id\":\"1334\"},\"coordinates\":null,\"dimension\":1,\"group\":null,\"ticker\":null},\"id\":\"1337\",\"type\":\"Grid\"},{\"attributes\":{\"axis_label\":\"x\",\"coordinates\":null,\"formatter\":{\"id\":\"1585\"},\"group\":null,\"major_label_policy\":{\"id\":\"1586\"},\"ticker\":{\"id\":\"1263\"}},\"id\":\"1262\",\"type\":\"LinearAxis\"},{\"attributes\":{},\"id\":\"1343\",\"type\":\"HelpTool\"},{\"attributes\":{\"bottom_units\":\"screen\",\"coordinates\":null,\"fill_alpha\":0.5,\"fill_color\":\"lightgrey\",\"group\":null,\"left_units\":\"screen\",\"level\":\"overlay\",\"line_alpha\":1.0,\"line_color\":\"black\",\"line_dash\":[4,4],\"line_width\":2,\"right_units\":\"screen\",\"syncable\":false,\"top_units\":\"screen\"},\"id\":\"1548\",\"type\":\"BoxAnnotation\"},{\"attributes\":{\"axis_label\":\"F1\",\"coordinates\":null,\"formatter\":{\"id\":\"1582\"},\"group\":null,\"major_label_policy\":{\"id\":\"1583\"},\"ticker\":{\"id\":\"1267\"}},\"id\":\"1266\",\"type\":\"LinearAxis\"},{\"attributes\":{\"tools\":[{\"id\":\"1270\"},{\"id\":\"1271\"},{\"id\":\"1272\"},{\"id\":\"1273\"},{\"id\":\"1274\"},{\"id\":\"1275\"}]},\"id\":\"1277\",\"type\":\"Toolbar\"},{\"attributes\":{},\"id\":\"1335\",\"type\":\"BasicTicker\"},{\"attributes\":{\"axis\":{\"id\":\"1262\"},\"coordinates\":null,\"group\":null,\"ticker\":null},\"id\":\"1265\",\"type\":\"Grid\"},{\"attributes\":{\"axis_label\":\"x\",\"coordinates\":null,\"formatter\":{\"id\":\"1597\"},\"group\":null,\"major_label_policy\":{\"id\":\"1598\"},\"ticker\":{\"id\":\"1399\"}},\"id\":\"1398\",\"type\":\"LinearAxis\"},{\"attributes\":{\"coordinates\":null,\"data_source\":{\"id\":\"1284\"},\"glyph\":{\"id\":\"1285\"},\"group\":null,\"hover_glyph\":null,\"muted_glyph\":{\"id\":\"1287\"},\"nonselection_glyph\":{\"id\":\"1286\"},\"view\":{\"id\":\"1289\"}},\"id\":\"1288\",\"type\":\"GlyphRenderer\"},{\"attributes\":{\"line_alpha\":0.1,\"line_color\":\"#1f77b4\",\"x\":{\"field\":\"x\"},\"y\":{\"field\":\"y\"}},\"id\":\"1490\",\"type\":\"Line\"},{\"attributes\":{\"below\":[{\"id\":\"1398\"}],\"center\":[{\"id\":\"1401\"},{\"id\":\"1405\"}],\"height\":100,\"left\":[{\"id\":\"1402\"}],\"renderers\":[{\"id\":\"1424\"}],\"title\":{\"id\":\"1575\"},\"toolbar\":{\"id\":\"1413\"},\"width\":500,\"x_range\":{\"id\":\"1390\"},\"x_scale\":{\"id\":\"1394\"},\"y_range\":{\"id\":\"1392\"},\"y_scale\":{\"id\":\"1396\"}},\"id\":\"1389\",\"subtype\":\"Figure\",\"type\":\"Plot\"},{\"attributes\":{\"axis_label\":\"F7\",\"coordinates\":null,\"formatter\":{\"id\":\"1600\"},\"group\":null,\"major_label_policy\":{\"id\":\"1601\"},\"ticker\":{\"id\":\"1471\"}},\"id\":\"1470\",\"type\":\"LinearAxis\"},{\"attributes\":{\"source\":{\"id\":\"1488\"}},\"id\":\"1493\",\"type\":\"CDSView\"},{\"attributes\":{},\"id\":\"1270\",\"type\":\"PanTool\"},{\"attributes\":{},\"id\":\"1588\",\"type\":\"BasicTickFormatter\"},{\"attributes\":{\"coordinates\":null,\"data_source\":{\"id\":\"1488\"},\"glyph\":{\"id\":\"1489\"},\"group\":null,\"hover_glyph\":null,\"muted_glyph\":{\"id\":\"1491\"},\"nonselection_glyph\":{\"id\":\"1490\"},\"view\":{\"id\":\"1493\"}},\"id\":\"1492\",\"type\":\"GlyphRenderer\"},{\"attributes\":{\"overlay\":{\"id\":\"1276\"}},\"id\":\"1272\",\"type\":\"BoxZoomTool\"},{\"attributes\":{\"tools\":[{\"id\":\"1338\"},{\"id\":\"1339\"},{\"id\":\"1340\"},{\"id\":\"1341\"},{\"id\":\"1342\"},{\"id\":\"1343\"}]},\"id\":\"1345\",\"type\":\"Toolbar\"},{\"attributes\":{},\"id\":\"1589\",\"type\":\"AllLabels\"},{\"attributes\":{\"tools\":[{\"id\":\"1542\"},{\"id\":\"1543\"},{\"id\":\"1544\"},{\"id\":\"1545\"},{\"id\":\"1546\"},{\"id\":\"1547\"}]},\"id\":\"1549\",\"type\":\"Toolbar\"},{\"attributes\":{},\"id\":\"1267\",\"type\":\"BasicTicker\"},{\"attributes\":{},\"id\":\"1591\",\"type\":\"BasicTickFormatter\"},{\"attributes\":{\"below\":[{\"id\":\"1262\"}],\"center\":[{\"id\":\"1265\"},{\"id\":\"1269\"}],\"height\":100,\"left\":[{\"id\":\"1266\"}],\"renderers\":[{\"id\":\"1288\"}],\"title\":{\"id\":\"1571\"},\"toolbar\":{\"id\":\"1277\"},\"width\":500,\"x_range\":{\"id\":\"1254\"},\"x_scale\":{\"id\":\"1258\"},\"y_range\":{\"id\":\"1256\"},\"y_scale\":{\"id\":\"1260\"}},\"id\":\"1253\",\"subtype\":\"Figure\",\"type\":\"Plot\"},{\"attributes\":{\"source\":{\"id\":\"1284\"}},\"id\":\"1289\",\"type\":\"CDSView\"},{\"attributes\":{},\"id\":\"1592\",\"type\":\"AllLabels\"},{\"attributes\":{},\"id\":\"1614\",\"type\":\"UnionRenderers\"},{\"attributes\":{\"line_color\":\"#1f77b4\",\"x\":{\"field\":\"x\"},\"y\":{\"field\":\"y\"}},\"id\":\"1421\",\"type\":\"Line\"},{\"attributes\":{},\"id\":\"1615\",\"type\":\"Selection\"},{\"attributes\":{},\"id\":\"1478\",\"type\":\"ResetTool\"},{\"attributes\":{},\"id\":\"1271\",\"type\":\"WheelZoomTool\"},{\"attributes\":{},\"id\":\"1260\",\"type\":\"LinearScale\"},{\"attributes\":{},\"id\":\"1274\",\"type\":\"ResetTool\"},{\"attributes\":{\"bottom_units\":\"screen\",\"coordinates\":null,\"fill_alpha\":0.5,\"fill_color\":\"lightgrey\",\"group\":null,\"left_units\":\"screen\",\"level\":\"overlay\",\"line_alpha\":1.0,\"line_color\":\"black\",\"line_dash\":[4,4],\"line_width\":2,\"right_units\":\"screen\",\"syncable\":false,\"top_units\":\"screen\"},\"id\":\"1344\",\"type\":\"BoxAnnotation\"},{\"attributes\":{\"line_alpha\":0.1,\"line_color\":\"#1f77b4\",\"x\":{\"field\":\"x\"},\"y\":{\"field\":\"y\"}},\"id\":\"1422\",\"type\":\"Line\"},{\"attributes\":{},\"id\":\"1392\",\"type\":\"DataRange1d\"},{\"attributes\":{\"data\":{\"x\":{\"__ndarray__\":\"AAAAAAAAAAB7FK5H4XqEP3sUrkfhepQ/uB6F61G4nj97FK5H4XqkP5qZmZmZmak/uB6F61G4rj/sUbgeheuxP3sUrkfherQ/CtejcD0Ktz+amZmZmZm5Pylcj8L1KLw/uB6F61G4vj+kcD0K16PAP+xRuB6F68E/MzMzMzMzwz97FK5H4XrEP8P1KFyPwsU/CtejcD0Kxz9SuB6F61HIP5qZmZmZmck/4XoUrkfhyj8pXI/C9SjMP3E9CtejcM0/uB6F61G4zj8AAAAAAADQP6RwPQrXo9A/SOF6FK5H0T/sUbgehevRP4/C9Shcj9I/MzMzMzMz0z/Xo3A9CtfTP3sUrkfhetQ/H4XrUbge1T/D9Shcj8LVP2dmZmZmZtY/CtejcD0K1z+uR+F6FK7XP1K4HoXrUdg/9ihcj8L12D+amZmZmZnZPz4K16NwPdo/4XoUrkfh2j+F61G4HoXbPylcj8L1KNw/zczMzMzM3D9xPQrXo3DdPxWuR+F6FN4/uB6F61G43j9cj8L1KFzfPwAAAAAAAOA/UrgehetR4D+kcD0K16PgP/YoXI/C9eA/SOF6FK5H4T+amZmZmZnhP+xRuB6F6+E/PgrXo3A94j+PwvUoXI/iP+F6FK5H4eI/MzMzMzMz4z+F61G4HoXjP9ejcD0K1+M/KVyPwvUo5D97FK5H4XrkP83MzMzMzOQ/H4XrUbge5T9xPQrXo3DlP8P1KFyPwuU/Fa5H4XoU5j9nZmZmZmbmP7gehetRuOY/CtejcD0K5z9cj8L1KFznP65H4XoUruc/AAAAAAAA6D9SuB6F61HoP6RwPQrXo+g/9ihcj8L16D9I4XoUrkfpP5qZmZmZmek/7FG4HoXr6T8+CtejcD3qP5DC9Shcj+o/4XoUrkfh6j8zMzMzMzPrP4XrUbgehes/16NwPQrX6z8pXI/C9SjsP3sUrkfheuw/zczMzMzM7D8fhetRuB7tP3E9CtejcO0/w/UoXI/C7T8VrkfhehTuP2dmZmZmZu4/uB6F61G47j8K16NwPQrvP1yPwvUoXO8/rkfhehSu7z8=\",\"dtype\":\"float64\",\"order\":\"little\",\"shape\":[100]},\"y\":{\"__ndarray__\":\"AAAAAAAAAABP6S8378bTP15adQQjz+I/qPSXm3fj6T//VEQTDm/uPwAAAAAAAPA/AFVEEw5v7j+o9Jebd+PpP19adQQjz+I/UekvN+/G0z8HXBQzJqahPE3pLzfvxtO/XVp1BCPP4r+n9Jebd+Ppv/9URBMOb+6/AAAAAAAA8L8AVUQTDm/uv6n0l5t34+m/YFp1BCPP4r9U6S8378bTvwdcFDMmprG8S+kvN+/G0z9cWnUEI8/iP6b0l5t34+k//1REEw5v7j8AAAAAAADwPwBVRBMOb+4/qfSXm3fj6T9gWnUEI8/iP1bpLzfvxtM/CoqeTDl5ujxJ6S8378bTv1tadQQjz+K/pvSXm3fj6b/+VEQTDm/uvwAAAAAAAPC/AVVEEw5v7r+q9Jebd+Ppv2FadQQjz+K/WOkvN+/G078HXBQzJqbBvGXpLzfvxtM/Wlp1BCPP4j+l9Jebd+PpP/5URBMOb+4/AAAAAAAA8D8BVUQTDm/uP6H0l5t34+k/Ylp1BCPP4j9a6S8378bTPwlz2b+vD8Y8Y+kvN+/G079ZWnUEI8/iv670l5t34+m//lREEw5v7r8AAAAAAADwvwFVRBMOb+6/ovSXm3fj6b9jWnUEI8/iv3rpLzfvxtO/CoqeTDl5yrwk6S8378bTP1hadQQjz+I/rfSXm3fj6T/9VEQTDm/uPwAAAAAAAPA/AlVEEw5v7j+j9Jebd+PpP2RadQQjz+I/QOkvN+/G0z+9F6dJT0fovCLpLzfvxtO/WFp1BCPP4r+a9Jebd+Ppv/1URBMOb+6/AAAAAAAA8L8CVUQTDm/uv6P0l5t34+m/ZVp1BCPP4r9C6S8378bTvwdcFDMmptG8XekvN+/G0z9wWnUEI8/iP6z0l5t34+k//VREEw5v7j8AAAAAAADwPwJVRBMOb+4/t/SXm3fj6T9mWnUEI8/iP0TpLzfvxtM/iOd2+era0zxb6S8378bTv1ZadQQjz+K/q/SXm3fj6b8GVUQTDm/uvwAAAAAAAPC/A1VEEw5v7r+39Jebd+Ppv2dadQQjz+K/g+kvN+/G078=\",\"dtype\":\"float64\",\"order\":\"little\",\"shape\":[100]}},\"selected\":{\"id\":\"1618\"},\"selection_policy\":{\"id\":\"1617\"}},\"id\":\"1420\",\"type\":\"ColumnDataSource\"},{\"attributes\":{},\"id\":\"1530\",\"type\":\"LinearScale\"},{\"attributes\":{\"line_alpha\":0.2,\"line_color\":\"#1f77b4\",\"x\":{\"field\":\"x\"},\"y\":{\"field\":\"y\"}},\"id\":\"1423\",\"type\":\"Line\"},{\"attributes\":{},\"id\":\"1399\",\"type\":\"BasicTicker\"},{\"attributes\":{\"axis\":{\"id\":\"1398\"},\"coordinates\":null,\"group\":null,\"ticker\":null},\"id\":\"1401\",\"type\":\"Grid\"},{\"attributes\":{},\"id\":\"1407\",\"type\":\"WheelZoomTool\"},{\"attributes\":{},\"id\":\"1338\",\"type\":\"PanTool\"},{\"attributes\":{\"line_alpha\":0.1,\"line_color\":\"#1f77b4\",\"x\":{\"field\":\"x\"},\"y\":{\"field\":\"y\"}},\"id\":\"1558\",\"type\":\"Line\"},{\"attributes\":{\"overlay\":{\"id\":\"1344\"}},\"id\":\"1340\",\"type\":\"BoxZoomTool\"},{\"attributes\":{},\"id\":\"1475\",\"type\":\"WheelZoomTool\"},{\"attributes\":{},\"id\":\"1586\",\"type\":\"AllLabels\"},{\"attributes\":{\"coordinates\":null,\"group\":null},\"id\":\"1573\",\"type\":\"Title\"},{\"attributes\":{},\"id\":\"1275\",\"type\":\"HelpTool\"},{\"attributes\":{},\"id\":\"1328\",\"type\":\"LinearScale\"},{\"attributes\":{},\"id\":\"1460\",\"type\":\"DataRange1d\"},{\"attributes\":{},\"id\":\"1594\",\"type\":\"BasicTickFormatter\"},{\"attributes\":{},\"id\":\"1462\",\"type\":\"LinearScale\"},{\"attributes\":{},\"id\":\"1595\",\"type\":\"AllLabels\"},{\"attributes\":{\"axis_label\":\"x\",\"coordinates\":null,\"formatter\":{\"id\":\"1609\"},\"group\":null,\"major_label_policy\":{\"id\":\"1610\"},\"ticker\":{\"id\":\"1535\"}},\"id\":\"1534\",\"type\":\"LinearAxis\"},{\"attributes\":{},\"id\":\"1617\",\"type\":\"UnionRenderers\"},{\"attributes\":{},\"id\":\"1390\",\"type\":\"DataRange1d\"},{\"attributes\":{},\"id\":\"1597\",\"type\":\"BasicTickFormatter\"},{\"attributes\":{},\"id\":\"1464\",\"type\":\"LinearScale\"},{\"attributes\":{\"line_alpha\":0.1,\"line_color\":\"#1f77b4\",\"x\":{\"field\":\"x\"},\"y\":{\"field\":\"y\"}},\"id\":\"1354\",\"type\":\"Line\"},{\"attributes\":{},\"id\":\"1618\",\"type\":\"Selection\"},{\"attributes\":{},\"id\":\"1258\",\"type\":\"LinearScale\"},{\"attributes\":{},\"id\":\"1598\",\"type\":\"AllLabels\"},{\"attributes\":{\"overlay\":{\"id\":\"1480\"}},\"id\":\"1476\",\"type\":\"BoxZoomTool\"},{\"attributes\":{\"coordinates\":null,\"group\":null},\"id\":\"1571\",\"type\":\"Title\"},{\"attributes\":{},\"id\":\"1467\",\"type\":\"BasicTicker\"},{\"attributes\":{},\"id\":\"1273\",\"type\":\"SaveTool\"},{\"attributes\":{\"tools\":[{\"id\":\"1474\"},{\"id\":\"1475\"},{\"id\":\"1476\"},{\"id\":\"1477\"},{\"id\":\"1478\"},{\"id\":\"1479\"}]},\"id\":\"1481\",\"type\":\"Toolbar\"},{\"attributes\":{},\"id\":\"1326\",\"type\":\"LinearScale\"},{\"attributes\":{},\"id\":\"1474\",\"type\":\"PanTool\"},{\"attributes\":{},\"id\":\"1394\",\"type\":\"LinearScale\"},{\"attributes\":{\"axis_label\":\"F5\",\"coordinates\":null,\"formatter\":{\"id\":\"1594\"},\"group\":null,\"major_label_policy\":{\"id\":\"1595\"},\"ticker\":{\"id\":\"1403\"}},\"id\":\"1402\",\"type\":\"LinearAxis\"},{\"attributes\":{},\"id\":\"1532\",\"type\":\"LinearScale\"},{\"attributes\":{\"axis\":{\"id\":\"1266\"},\"coordinates\":null,\"dimension\":1,\"group\":null,\"ticker\":null},\"id\":\"1269\",\"type\":\"Grid\"},{\"attributes\":{},\"id\":\"1528\",\"type\":\"DataRange1d\"},{\"attributes\":{\"below\":[{\"id\":\"1534\"}],\"center\":[{\"id\":\"1537\"},{\"id\":\"1541\"}],\"height\":100,\"left\":[{\"id\":\"1538\"}],\"renderers\":[{\"id\":\"1560\"}],\"title\":{\"id\":\"1579\"},\"toolbar\":{\"id\":\"1549\"},\"width\":500,\"x_range\":{\"id\":\"1526\"},\"x_scale\":{\"id\":\"1530\"},\"y_range\":{\"id\":\"1528\"},\"y_scale\":{\"id\":\"1532\"}},\"id\":\"1525\",\"subtype\":\"Figure\",\"type\":\"Plot\"},{\"attributes\":{\"data\":{\"x\":{\"__ndarray__\":\"AAAAAAAAAAB7FK5H4XqEP3sUrkfhepQ/uB6F61G4nj97FK5H4XqkP5qZmZmZmak/uB6F61G4rj/sUbgeheuxP3sUrkfherQ/CtejcD0Ktz+amZmZmZm5Pylcj8L1KLw/uB6F61G4vj+kcD0K16PAP+xRuB6F68E/MzMzMzMzwz97FK5H4XrEP8P1KFyPwsU/CtejcD0Kxz9SuB6F61HIP5qZmZmZmck/4XoUrkfhyj8pXI/C9SjMP3E9CtejcM0/uB6F61G4zj8AAAAAAADQP6RwPQrXo9A/SOF6FK5H0T/sUbgehevRP4/C9Shcj9I/MzMzMzMz0z/Xo3A9CtfTP3sUrkfhetQ/H4XrUbge1T/D9Shcj8LVP2dmZmZmZtY/CtejcD0K1z+uR+F6FK7XP1K4HoXrUdg/9ihcj8L12D+amZmZmZnZPz4K16NwPdo/4XoUrkfh2j+F61G4HoXbPylcj8L1KNw/zczMzMzM3D9xPQrXo3DdPxWuR+F6FN4/uB6F61G43j9cj8L1KFzfPwAAAAAAAOA/UrgehetR4D+kcD0K16PgP/YoXI/C9eA/SOF6FK5H4T+amZmZmZnhP+xRuB6F6+E/PgrXo3A94j+PwvUoXI/iP+F6FK5H4eI/MzMzMzMz4z+F61G4HoXjP9ejcD0K1+M/KVyPwvUo5D97FK5H4XrkP83MzMzMzOQ/H4XrUbge5T9xPQrXo3DlP8P1KFyPwuU/Fa5H4XoU5j9nZmZmZmbmP7gehetRuOY/CtejcD0K5z9cj8L1KFznP65H4XoUruc/AAAAAAAA6D9SuB6F61HoP6RwPQrXo+g/9ihcj8L16D9I4XoUrkfpP5qZmZmZmek/7FG4HoXr6T8+CtejcD3qP5DC9Shcj+o/4XoUrkfh6j8zMzMzMzPrP4XrUbgehes/16NwPQrX6z8pXI/C9SjsP3sUrkfheuw/zczMzMzM7D8fhetRuB7tP3E9CtejcO0/w/UoXI/C7T8VrkfhehTuP2dmZmZmZu4/uB6F61G47j8K16NwPQrvP1yPwvUoXO8/rkfhehSu7z8=\",\"dtype\":\"float64\",\"order\":\"little\",\"shape\":[100]},\"y\":{\"__ndarray__\":\"AAAAAAAAAABRKxg8fiXhP4wV3NxX9Ow/A9mAVGe/7z/qa1tjC6joP1HpLzfvxtM/jgcc+hHVz78WuNIDtlPnv/8JJazlbu+/5lrvnbrA7b9gWnUEI8/iv3GT4BsKE7C/Sqm/XA3V3j9ZwIFOtArsP/5D5L/V7+8/qfSXm3fj6T8ZqahIWo/XP4V6A2Uc/Me/DCARVc/n5b/fHhAdov7uvwFVRBMOb+6/vAG1/sZl5L/XW6Fd6wrAv6WBJcn3P9s/gi5k/7sE6z8AAAAAAADwP4cuZP+7BOs/moElyfc/2z/wW6Fd6wrAv7UBtf7GZeS//lREEw5v7r/hHhAdov7uvxMgEVXP5+W/bXoDZRz8x78kqahIWo/XP630l5t34+k//UPkv9Xv7z9hwIFOtArsP2qpv1wN1d4/IpPgGwoTsL9YWnUEI8/iv+Na7526wO2//wklrOVu778VuNIDtlPnv4YHHPoR1c+/XekvN+/G0z/wa1tjC6joPwTZgFRnv+8/khXc3Ff07D9cKxg8fiXhP4jndvnq2tM8SysYPH4l4b+KFdzcV/TsvwPZgFRnv++/6WtbYwuo6L9G6S8378bTv7UHHPoR1c8/M7jSA7ZT5z/7CSWs5W7vP+pa7526wO0/aFp1BCPP4j/Ak+AbChOwP0epv1wN1d6/WMCBTrQK7L/+Q+S/1e/vv6b0l5t34+m/DamoSFqP17+degNlHPzHPxwgEVXP5+U/5B4QHaL+7j/6VEQTDm/uP90Btf7GZeQ/flyhXesKwD9ZgSXJ9z/bv3QuZP+7BOu/AAAAAAAA8L+VLmT/uwTrv8mBJcn3P9u/iVuhXesKwD+tAbX+xmXkP/pURBMOb+4/5B4QHaL+7j8aIBFVz+flP5R6A2Uc/Mc/EqmoSFqP17+n9Jebd+Ppv/5D5L/V7++/V8CBTrQK7L9Dqb9cDdXev9KT4BsKE7A/aVp1BCPP4j/rWu+dusDtP/sJJazlbu8/BrjSA7ZT5z8wBxz6EdXPP4fpLzfvxtO/1mtbYwuo6L//2IBUZ7/vv5cV3NxX9Oy/ZCsYPH4l4b8=\",\"dtype\":\"float64\",\"order\":\"little\",\"shape\":[100]}},\"selected\":{\"id\":\"1624\"},\"selection_policy\":{\"id\":\"1623\"}},\"id\":\"1556\",\"type\":\"ColumnDataSource\"},{\"attributes\":{},\"id\":\"1479\",\"type\":\"HelpTool\"},{\"attributes\":{\"line_alpha\":0.2,\"line_color\":\"#1f77b4\",\"x\":{\"field\":\"x\"},\"y\":{\"field\":\"y\"}},\"id\":\"1559\",\"type\":\"Line\"},{\"attributes\":{},\"id\":\"1342\",\"type\":\"ResetTool\"},{\"attributes\":{},\"id\":\"1535\",\"type\":\"BasicTicker\"},{\"attributes\":{\"axis\":{\"id\":\"1534\"},\"coordinates\":null,\"group\":null,\"ticker\":null},\"id\":\"1537\",\"type\":\"Grid\"},{\"attributes\":{},\"id\":\"1341\",\"type\":\"SaveTool\"},{\"attributes\":{},\"id\":\"1543\",\"type\":\"WheelZoomTool\"},{\"attributes\":{\"axis_label\":\"F9\",\"coordinates\":null,\"formatter\":{\"id\":\"1606\"},\"group\":null,\"major_label_policy\":{\"id\":\"1607\"},\"ticker\":{\"id\":\"1539\"}},\"id\":\"1538\",\"type\":\"LinearAxis\"},{\"attributes\":{\"line_color\":\"#1f77b4\",\"x\":{\"field\":\"x\"},\"y\":{\"field\":\"y\"}},\"id\":\"1489\",\"type\":\"Line\"},{\"attributes\":{\"axis\":{\"id\":\"1470\"},\"coordinates\":null,\"dimension\":1,\"group\":null,\"ticker\":null},\"id\":\"1473\",\"type\":\"Grid\"},{\"attributes\":{},\"id\":\"1471\",\"type\":\"BasicTicker\"},{\"attributes\":{\"coordinates\":null,\"group\":null},\"id\":\"1575\",\"type\":\"Title\"},{\"attributes\":{},\"id\":\"1477\",\"type\":\"SaveTool\"},{\"attributes\":{\"axis_label\":\"x\",\"coordinates\":null,\"formatter\":{\"id\":\"1591\"},\"group\":null,\"major_label_policy\":{\"id\":\"1592\"},\"ticker\":{\"id\":\"1331\"}},\"id\":\"1330\",\"type\":\"LinearAxis\"},{\"attributes\":{},\"id\":\"1458\",\"type\":\"DataRange1d\"},{\"attributes\":{\"source\":{\"id\":\"1556\"}},\"id\":\"1561\",\"type\":\"CDSView\"},{\"attributes\":{},\"id\":\"1620\",\"type\":\"UnionRenderers\"},{\"attributes\":{},\"id\":\"1600\",\"type\":\"BasicTickFormatter\"},{\"attributes\":{},\"id\":\"1621\",\"type\":\"Selection\"},{\"attributes\":{},\"id\":\"1601\",\"type\":\"AllLabels\"},{\"attributes\":{},\"id\":\"1324\",\"type\":\"DataRange1d\"},{\"attributes\":{},\"id\":\"1583\",\"type\":\"AllLabels\"},{\"attributes\":{},\"id\":\"1603\",\"type\":\"BasicTickFormatter\"},{\"attributes\":{\"coordinates\":null,\"group\":null},\"id\":\"1579\",\"type\":\"Title\"},{\"attributes\":{\"data\":{\"x\":{\"__ndarray__\":\"AAAAAAAAAAB7FK5H4XqEP3sUrkfhepQ/uB6F61G4nj97FK5H4XqkP5qZmZmZmak/uB6F61G4rj/sUbgeheuxP3sUrkfherQ/CtejcD0Ktz+amZmZmZm5Pylcj8L1KLw/uB6F61G4vj+kcD0K16PAP+xRuB6F68E/MzMzMzMzwz97FK5H4XrEP8P1KFyPwsU/CtejcD0Kxz9SuB6F61HIP5qZmZmZmck/4XoUrkfhyj8pXI/C9SjMP3E9CtejcM0/uB6F61G4zj8AAAAAAADQP6RwPQrXo9A/SOF6FK5H0T/sUbgehevRP4/C9Shcj9I/MzMzMzMz0z/Xo3A9CtfTP3sUrkfhetQ/H4XrUbge1T/D9Shcj8LVP2dmZmZmZtY/CtejcD0K1z+uR+F6FK7XP1K4HoXrUdg/9ihcj8L12D+amZmZmZnZPz4K16NwPdo/4XoUrkfh2j+F61G4HoXbPylcj8L1KNw/zczMzMzM3D9xPQrXo3DdPxWuR+F6FN4/uB6F61G43j9cj8L1KFzfPwAAAAAAAOA/UrgehetR4D+kcD0K16PgP/YoXI/C9eA/SOF6FK5H4T+amZmZmZnhP+xRuB6F6+E/PgrXo3A94j+PwvUoXI/iP+F6FK5H4eI/MzMzMzMz4z+F61G4HoXjP9ejcD0K1+M/KVyPwvUo5D97FK5H4XrkP83MzMzMzOQ/H4XrUbge5T9xPQrXo3DlP8P1KFyPwuU/Fa5H4XoU5j9nZmZmZmbmP7gehetRuOY/CtejcD0K5z9cj8L1KFznP65H4XoUruc/AAAAAAAA6D9SuB6F61HoP6RwPQrXo+g/9ihcj8L16D9I4XoUrkfpP5qZmZmZmek/7FG4HoXr6T8+CtejcD3qP5DC9Shcj+o/4XoUrkfh6j8zMzMzMzPrP4XrUbgehes/16NwPQrX6z8pXI/C9SjsP3sUrkfheuw/zczMzMzM7D8fhetRuB7tP3E9CtejcO0/w/UoXI/C7T8VrkfhehTuP2dmZmZmZu4/uB6F61G47j8K16NwPQrvP1yPwvUoXO8/rkfhehSu7z8=\",\"dtype\":\"float64\",\"order\":\"little\",\"shape\":[100]},\"y\":{\"__ndarray__\":\"AAAAAAAAAAB5egNlHPzHPxmpqEhaj9c/USsYPH4l4T8UIBFVz+flP6j0l5t34+k/jBXc3Ff07D/gHhAdov7uP/5D5L/V7+8/A9mAVGe/7z8AVUQTDm/uP1rAgU60Cuw/6mtbYwuo6D+9AbX+xmXkP1Cpv1wN1d4/UekvN+/G0z/aW6Fd6wrAP3eT4BsKE7C/jgcc+hHVz7+cgSXJ9z/bv11adQQjz+K/FLjSA7ZT57+DLmT/uwTrv+Va7526wO2//wklrOVu778AAAAAAADwv/8JJazlbu+/41rvnbrA7b+FLmT/uwTrvxu40gO2U+e/YFp1BCPP4r+igSXJ9z/bv4sHHPoR1c+/cZPgGwoTsL/dW6Fd6wrAP1rpLzfvxtM/Sqm/XA3V3j+3AbX+xmXkP+prW2MLqOg/WcCBTrQK7D//VEQTDm/uPwPZgFRnv+8//kPkv9Xv7z/gHhAdov7uP5AV3NxX9Ow/qfSXm3fj6T8RIBFVz+flP0grGDx+JeE/GamoSFqP1z+fegNlHPzHPwqKnkw5ebo8hXoDZRz8x78MqahIWo/Xv1ArGDx+JeG/GCARVc/n5b+m9Jebd+Ppv40V3NxX9Oy/4x4QHaL+7r/9Q+S/1e/vvwTZgFRnv++/AVVEEw5v7r9gwIFOtArsv+9rW2MLqOi/vAG1/sZl5L9Iqb9cDdXev1jpLzfvxtO/11uhXesKwL+8k+AbChOwP5EHHPoR1c8/pYElyfc/2z9nWnUEI8/iPwy40gO2U+c/gi5k/7sE6z/kWu+dusDtP/0JJazlbu8/AAAAAAAA8D/+CSWs5W7vP+ha7526wO0/hy5k/7sE6z8SuNIDtlPnP2JadQQjz+I/moElyfc/2z95Bxz6EdXPPwyT4BsKE7A/sFuhXesKwL8m6S8378bTv1Kpv1wN1d6/tQG1/sZl5L/ea1tjC6jov1vAgU60Cuy//lREEw5v7r8B2YBUZ7/vv/5D5L/V7++/4R4QHaL+7r+DFdzcV/Tsv6L0l5t34+m/EyARVc/n5b9ZKxg8fiXhvz2pqEhaj9e/bXoDZRz8x78=\",\"dtype\":\"float64\",\"order\":\"little\",\"shape\":[100]}},\"selected\":{\"id\":\"1615\"},\"selection_policy\":{\"id\":\"1614\"}},\"id\":\"1352\",\"type\":\"ColumnDataSource\"},{\"attributes\":{\"line_alpha\":0.2,\"line_color\":\"#1f77b4\",\"x\":{\"field\":\"x\"},\"y\":{\"field\":\"y\"}},\"id\":\"1355\",\"type\":\"Line\"},{\"attributes\":{},\"id\":\"1331\",\"type\":\"BasicTicker\"},{\"attributes\":{},\"id\":\"1604\",\"type\":\"AllLabels\"},{\"attributes\":{\"axis\":{\"id\":\"1330\"},\"coordinates\":null,\"group\":null,\"ticker\":null},\"id\":\"1333\",\"type\":\"Grid\"},{\"attributes\":{},\"id\":\"1339\",\"type\":\"WheelZoomTool\"},{\"attributes\":{\"axis_label\":\"F3\",\"coordinates\":null,\"formatter\":{\"id\":\"1588\"},\"group\":null,\"major_label_policy\":{\"id\":\"1589\"},\"ticker\":{\"id\":\"1335\"}},\"id\":\"1334\",\"type\":\"LinearAxis\"},{\"attributes\":{\"data\":{\"x\":{\"__ndarray__\":\"AAAAAAAAAAB7FK5H4XqEP3sUrkfhepQ/uB6F61G4nj97FK5H4XqkP5qZmZmZmak/uB6F61G4rj/sUbgeheuxP3sUrkfherQ/CtejcD0Ktz+amZmZmZm5Pylcj8L1KLw/uB6F61G4vj+kcD0K16PAP+xRuB6F68E/MzMzMzMzwz97FK5H4XrEP8P1KFyPwsU/CtejcD0Kxz9SuB6F61HIP5qZmZmZmck/4XoUrkfhyj8pXI/C9SjMP3E9CtejcM0/uB6F61G4zj8AAAAAAADQP6RwPQrXo9A/SOF6FK5H0T/sUbgehevRP4/C9Shcj9I/MzMzMzMz0z/Xo3A9CtfTP3sUrkfhetQ/H4XrUbge1T/D9Shcj8LVP2dmZmZmZtY/CtejcD0K1z+uR+F6FK7XP1K4HoXrUdg/9ihcj8L12D+amZmZmZnZPz4K16NwPdo/4XoUrkfh2j+F61G4HoXbPylcj8L1KNw/zczMzMzM3D9xPQrXo3DdPxWuR+F6FN4/uB6F61G43j9cj8L1KFzfPwAAAAAAAOA/UrgehetR4D+kcD0K16PgP/YoXI/C9eA/SOF6FK5H4T+amZmZmZnhP+xRuB6F6+E/PgrXo3A94j+PwvUoXI/iP+F6FK5H4eI/MzMzMzMz4z+F61G4HoXjP9ejcD0K1+M/KVyPwvUo5D97FK5H4XrkP83MzMzMzOQ/H4XrUbge5T9xPQrXo3DlP8P1KFyPwuU/Fa5H4XoU5j9nZmZmZmbmP7gehetRuOY/CtejcD0K5z9cj8L1KFznP65H4XoUruc/AAAAAAAA6D9SuB6F61HoP6RwPQrXo+g/9ihcj8L16D9I4XoUrkfpP5qZmZmZmek/7FG4HoXr6T8+CtejcD3qP5DC9Shcj+o/4XoUrkfh6j8zMzMzMzPrP4XrUbgehes/16NwPQrX6z8pXI/C9SjsP3sUrkfheuw/zczMzMzM7D8fhetRuB7tP3E9CtejcO0/w/UoXI/C7T8VrkfhehTuP2dmZmZmZu4/uB6F61G47j8K16NwPQrvP1yPwvUoXO8/rkfhehSu7z8=\",\"dtype\":\"float64\",\"order\":\"little\",\"shape\":[100]},\"y\":{\"__ndarray__\":\"AAAAAAAAAACcgSXJ9z/bP+prW2MLqOg/4B4QHaL+7j//CSWs5W7vP6j0l5t34+k/V6m/XA3V3j9ok+AbChOwPxipqEhaj9e/FLjSA7ZT57//VEQTDm/uvwPZgFRnv++/ii5k/7sE679OKxg8fiXhv89boV3rCsC/S+kvN+/G0z8TIBFVz+flP+Va7526wO0//kPkv9Xv7z9XwIFOtArsP2BadQQjz+I/n3oDZRz8xz+VBxz6EdXPv7cBtf7GZeS/hhXc3Ff07L8AAAAAAADwv4kV3NxX9Oy/vAG1/sZl5L91Bxz6EdXPv0J6A2Uc/Mc/Wlp1BCPP4j9UwIFOtArsP/5D5L/V7+8/4lrvnbrA7T8TIBFVz+flPzvpLzfvxtM/sFuhXesKwL9OKxg8fiXhv4ouZP+7BOu/AdmAVGe/778BVUQTDm/uvxS40gO2U+e/PamoSFqP178rk+AbChOwP1Cpv1wN1d4/rfSXm3fj6T/8CSWs5W7vP+EeEB2i/u4/+2tbYwuo6D+7gSXJ9z/bPwyhY9nC4s48n4Elyfc/27/xa1tjC6jov94eEB2i/u6//wklrOVu77+j9Jebd+PpvzOpv1wN1d6/ppLgGwoTsL/kqKhIWo/XPwm40gO2U+c//VREEw5v7j8D2YBUZ7/vP5IuZP+7BOs/XCsYPH4l4T/tW6Fd6wrAP1vpLzfvxtO/HyARVc/n5b/iWu+dusDtv/5D5L/V7++/U8CBTrQK7L9NWnUEI8/iv/x6A2Uc/Me/OQcc+hHVzz+xAbX+xmXkP4kV3NxX9Ow/AAAAAAAA8D+GFdzcV/TsP6oBtf7GZeQ/Dwgc+hHVzz8jegNlHPzHv1RadQQjz+K/WMCBTrQK7L/+Q+S/1e/vv99a7526wO2/MCARVc/n5b+H6S8378bTv5FboV3rCsA/SCsYPH4l4T+GLmT/uwTrPwTZgFRnv+8/+lREEw5v7j8DuNIDtlPnP0upqEhaj9c/7ZLgGwoTsL9Dqb9cDdXev6j0l5t34+m/9QklrOVu77/rHhAdov7uvwBsW2MLqOi/yYElyfc/278=\",\"dtype\":\"float64\",\"order\":\"little\",\"shape\":[100]}},\"selected\":{\"id\":\"1621\"},\"selection_policy\":{\"id\":\"1620\"}},\"id\":\"1488\",\"type\":\"ColumnDataSource\"},{\"attributes\":{\"bottom_units\":\"screen\",\"coordinates\":null,\"fill_alpha\":0.5,\"fill_color\":\"lightgrey\",\"group\":null,\"left_units\":\"screen\",\"level\":\"overlay\",\"line_alpha\":1.0,\"line_color\":\"black\",\"line_dash\":[4,4],\"line_width\":2,\"right_units\":\"screen\",\"syncable\":false,\"top_units\":\"screen\"},\"id\":\"1412\",\"type\":\"BoxAnnotation\"},{\"attributes\":{\"source\":{\"id\":\"1352\"}},\"id\":\"1357\",\"type\":\"CDSView\"},{\"attributes\":{\"coordinates\":null,\"group\":null},\"id\":\"1577\",\"type\":\"Title\"},{\"attributes\":{\"below\":[{\"id\":\"1466\"}],\"center\":[{\"id\":\"1469\"},{\"id\":\"1473\"}],\"height\":100,\"left\":[{\"id\":\"1470\"}],\"renderers\":[{\"id\":\"1492\"}],\"title\":{\"id\":\"1577\"},\"toolbar\":{\"id\":\"1481\"},\"width\":500,\"x_range\":{\"id\":\"1458\"},\"x_scale\":{\"id\":\"1462\"},\"y_range\":{\"id\":\"1460\"},\"y_scale\":{\"id\":\"1464\"}},\"id\":\"1457\",\"subtype\":\"Figure\",\"type\":\"Plot\"},{\"attributes\":{\"bottom_units\":\"screen\",\"coordinates\":null,\"fill_alpha\":0.5,\"fill_color\":\"lightgrey\",\"group\":null,\"left_units\":\"screen\",\"level\":\"overlay\",\"line_alpha\":1.0,\"line_color\":\"black\",\"line_dash\":[4,4],\"line_width\":2,\"right_units\":\"screen\",\"syncable\":false,\"top_units\":\"screen\"},\"id\":\"1480\",\"type\":\"BoxAnnotation\"},{\"attributes\":{\"axis\":{\"id\":\"1466\"},\"coordinates\":null,\"group\":null,\"ticker\":null},\"id\":\"1469\",\"type\":\"Grid\"},{\"attributes\":{},\"id\":\"1396\",\"type\":\"LinearScale\"},{\"attributes\":{},\"id\":\"1410\",\"type\":\"ResetTool\"}],\"root_ids\":[\"1562\"]},\"title\":\"Bokeh Application\",\"version\":\"2.4.3\"}};\n",
       "  const render_items = [{\"docid\":\"bee39e97-f836-4c43-a206-e33c92ad2d8e\",\"root_ids\":[\"1562\"],\"roots\":{\"1562\":\"420861a8-60dc-4251-9ffe-683af71d5809\"}}];\n",
       "  root.Bokeh.embed.embed_items_notebook(docs_json, render_items);\n",
       "  }\n",
       "  if (root.Bokeh !== undefined) {\n",
       "    embed_document(root);\n",
       "  } else {\n",
       "    let attempts = 0;\n",
       "    const timer = setInterval(function(root) {\n",
       "      if (root.Bokeh !== undefined) {\n",
       "        clearInterval(timer);\n",
       "        embed_document(root);\n",
       "      } else {\n",
       "        attempts++;\n",
       "        if (attempts > 100) {\n",
       "          clearInterval(timer);\n",
       "          console.log(\"Bokeh: ERROR: Unable to run BokehJS code because BokehJS library is missing\");\n",
       "        }\n",
       "      }\n",
       "    }, 10, root)\n",
       "  }\n",
       "})(window);"
      ],
      "application/vnd.bokehjs_exec.v0+json": ""
     },
     "metadata": {
      "application/vnd.bokehjs_exec.v0+json": {
       "id": "1562"
      }
     },
     "output_type": "display_data"
    }
   ],
   "source": [
    "import numpy as np\n",
    "\n",
    "from bokeh.plotting import figure\n",
    "from bokeh.layouts import column\n",
    "from bokeh.io import show\n",
    "\n",
    "\n",
    "x = np.arange(start=0.0, stop=1.0, step=0.01)\n",
    "\n",
    "ll = []\n",
    "\n",
    "for i in range(10):\n",
    "    p = figure(width=500, height=100, x_axis_label='x', y_axis_label='F{:}'.format(i))\n",
    "    ll += [p]\n",
    "\n",
    "    if i % 2:\n",
    "        p.line(x, np.sin(2.0*np.pi*i*x))\n",
    "\n",
    "for i,fig in enumerate(ll):\n",
    "    if not fig.renderers:\n",
    "        ll.pop(i)             # OPTION 1 (remove empty figure)\n",
    "        #fig.visible = False  # OPTION 2 (hide empty figure)\n",
    "\n",
    "show(column(ll))"
   ]
  },
  {
   "cell_type": "code",
   "execution_count": 10,
   "metadata": {},
   "outputs": [
    {
     "data": {
      "text/html": [
       "\n",
       "  <div class=\"bk-root\" id=\"b444afdd-e363-4fe8-adf5-04310a165df9\" data-root-id=\"1901\"></div>\n"
      ]
     },
     "metadata": {},
     "output_type": "display_data"
    },
    {
     "data": {
      "application/javascript": [
       "(function(root) {\n",
       "  function embed_document(root) {\n",
       "  const docs_json = {\"c4d3adf1-94d8-4e96-a4e6-65f23d55b1e8\":{\"defs\":[],\"roots\":{\"references\":[{\"attributes\":{\"below\":[{\"id\":\"1912\"}],\"center\":[{\"id\":\"1915\"},{\"id\":\"1919\"},{\"id\":\"1950\"}],\"left\":[{\"id\":\"1916\"}],\"renderers\":[{\"id\":\"1938\"}],\"title\":{\"id\":\"1902\"},\"toolbar\":{\"id\":\"1927\"},\"x_range\":{\"id\":\"1904\"},\"x_scale\":{\"id\":\"1908\"},\"y_range\":{\"id\":\"1906\"},\"y_scale\":{\"id\":\"1910\"}},\"id\":\"1901\",\"subtype\":\"Figure\",\"type\":\"Plot\"},{\"attributes\":{\"line_color\":\"#1f77b4\",\"line_width\":2,\"x\":{\"field\":\"x\"},\"y\":{\"field\":\"y\"}},\"id\":\"1935\",\"type\":\"Line\"},{\"attributes\":{},\"id\":\"1946\",\"type\":\"AllLabels\"},{\"attributes\":{\"tools\":[{\"id\":\"1920\"},{\"id\":\"1921\"},{\"id\":\"1922\"},{\"id\":\"1923\"},{\"id\":\"1924\"},{\"id\":\"1925\"}]},\"id\":\"1927\",\"type\":\"Toolbar\"},{\"attributes\":{},\"id\":\"1945\",\"type\":\"BasicTickFormatter\"},{\"attributes\":{\"line_alpha\":0.1,\"line_color\":\"#1f77b4\",\"line_width\":2,\"x\":{\"field\":\"x\"},\"y\":{\"field\":\"y\"}},\"id\":\"1936\",\"type\":\"Line\"},{\"attributes\":{\"axis_label\":\"y\",\"coordinates\":null,\"formatter\":{\"id\":\"1942\"},\"group\":null,\"major_label_policy\":{\"id\":\"1943\"},\"ticker\":{\"id\":\"1917\"}},\"id\":\"1916\",\"type\":\"LinearAxis\"},{\"attributes\":{\"axis\":{\"id\":\"1912\"},\"coordinates\":null,\"group\":null,\"ticker\":null},\"id\":\"1915\",\"type\":\"Grid\"},{\"attributes\":{},\"id\":\"1913\",\"type\":\"BasicTicker\"},{\"attributes\":{\"source\":{\"id\":\"1934\"}},\"id\":\"1939\",\"type\":\"CDSView\"},{\"attributes\":{\"overlay\":{\"id\":\"1926\"}},\"id\":\"1922\",\"type\":\"BoxZoomTool\"},{\"attributes\":{\"label\":{\"value\":\"Temp.\"},\"renderers\":[{\"id\":\"1938\"}]},\"id\":\"1951\",\"type\":\"LegendItem\"},{\"attributes\":{\"coordinates\":null,\"data_source\":{\"id\":\"1934\"},\"glyph\":{\"id\":\"1935\"},\"group\":null,\"hover_glyph\":null,\"muted_glyph\":{\"id\":\"1937\"},\"nonselection_glyph\":{\"id\":\"1936\"},\"view\":{\"id\":\"1939\"}},\"id\":\"1938\",\"type\":\"GlyphRenderer\"},{\"attributes\":{\"bottom_units\":\"screen\",\"coordinates\":null,\"fill_alpha\":0.5,\"fill_color\":\"lightgrey\",\"group\":null,\"left_units\":\"screen\",\"level\":\"overlay\",\"line_alpha\":1.0,\"line_color\":\"black\",\"line_dash\":[4,4],\"line_width\":2,\"right_units\":\"screen\",\"syncable\":false,\"top_units\":\"screen\"},\"id\":\"1926\",\"type\":\"BoxAnnotation\"},{\"attributes\":{},\"id\":\"1921\",\"type\":\"WheelZoomTool\"},{\"attributes\":{},\"id\":\"1920\",\"type\":\"PanTool\"},{\"attributes\":{},\"id\":\"1908\",\"type\":\"LinearScale\"},{\"attributes\":{\"data\":{\"x\":[1,2,3,4,5],\"y\":[6,7,2,4,5]},\"selected\":{\"id\":\"1948\"},\"selection_policy\":{\"id\":\"1947\"}},\"id\":\"1934\",\"type\":\"ColumnDataSource\"},{\"attributes\":{},\"id\":\"1925\",\"type\":\"HelpTool\"},{\"attributes\":{\"axis_label\":\"x\",\"coordinates\":null,\"formatter\":{\"id\":\"1945\"},\"group\":null,\"major_label_policy\":{\"id\":\"1946\"},\"ticker\":{\"id\":\"1913\"}},\"id\":\"1912\",\"type\":\"LinearAxis\"},{\"attributes\":{\"coordinates\":null,\"group\":null,\"items\":[{\"id\":\"1951\"}]},\"id\":\"1950\",\"type\":\"Legend\"},{\"attributes\":{},\"id\":\"1942\",\"type\":\"BasicTickFormatter\"},{\"attributes\":{},\"id\":\"1904\",\"type\":\"DataRange1d\"},{\"attributes\":{},\"id\":\"1924\",\"type\":\"ResetTool\"},{\"attributes\":{},\"id\":\"1943\",\"type\":\"AllLabels\"},{\"attributes\":{},\"id\":\"1917\",\"type\":\"BasicTicker\"},{\"attributes\":{\"axis\":{\"id\":\"1916\"},\"coordinates\":null,\"dimension\":1,\"group\":null,\"ticker\":null},\"id\":\"1919\",\"type\":\"Grid\"},{\"attributes\":{\"coordinates\":null,\"group\":null,\"text\":\"Simple line example\"},\"id\":\"1902\",\"type\":\"Title\"},{\"attributes\":{\"line_alpha\":0.2,\"line_color\":\"#1f77b4\",\"line_width\":2,\"x\":{\"field\":\"x\"},\"y\":{\"field\":\"y\"}},\"id\":\"1937\",\"type\":\"Line\"},{\"attributes\":{},\"id\":\"1906\",\"type\":\"DataRange1d\"},{\"attributes\":{},\"id\":\"1910\",\"type\":\"LinearScale\"},{\"attributes\":{},\"id\":\"1948\",\"type\":\"Selection\"},{\"attributes\":{},\"id\":\"1947\",\"type\":\"UnionRenderers\"},{\"attributes\":{},\"id\":\"1923\",\"type\":\"SaveTool\"}],\"root_ids\":[\"1901\"]},\"title\":\"Bokeh Application\",\"version\":\"2.4.3\"}};\n",
       "  const render_items = [{\"docid\":\"c4d3adf1-94d8-4e96-a4e6-65f23d55b1e8\",\"root_ids\":[\"1901\"],\"roots\":{\"1901\":\"b444afdd-e363-4fe8-adf5-04310a165df9\"}}];\n",
       "  root.Bokeh.embed.embed_items_notebook(docs_json, render_items);\n",
       "  }\n",
       "  if (root.Bokeh !== undefined) {\n",
       "    embed_document(root);\n",
       "  } else {\n",
       "    let attempts = 0;\n",
       "    const timer = setInterval(function(root) {\n",
       "      if (root.Bokeh !== undefined) {\n",
       "        clearInterval(timer);\n",
       "        embed_document(root);\n",
       "      } else {\n",
       "        attempts++;\n",
       "        if (attempts > 100) {\n",
       "          clearInterval(timer);\n",
       "          console.log(\"Bokeh: ERROR: Unable to run BokehJS code because BokehJS library is missing\");\n",
       "        }\n",
       "      }\n",
       "    }, 10, root)\n",
       "  }\n",
       "})(window);"
      ],
      "application/vnd.bokehjs_exec.v0+json": ""
     },
     "metadata": {
      "application/vnd.bokehjs_exec.v0+json": {
       "id": "1901"
      }
     },
     "output_type": "display_data"
    }
   ],
   "source": [
    "from bokeh.plotting import figure, show\n",
    "\n",
    "# prepare some data\n",
    "x = [1, 2, 3, 4, 5]\n",
    "y = [6, 7, 2, 4, 5]\n",
    "\n",
    "# create a new plot with a title and axis labels\n",
    "p = figure(title=\"Simple line example\", x_axis_label=\"x\", y_axis_label=\"y\")\n",
    "\n",
    "# add a line renderer with legend and line thickness\n",
    "p.line(x, y, legend_label=\"Temp.\", line_width=2)\n",
    "\n",
    "# show the results\n",
    "show(p)"
   ]
  },
  {
   "cell_type": "code",
   "execution_count": 13,
   "metadata": {},
   "outputs": [
    {
     "data": {
      "text/html": [
       "\n",
       "  <div class=\"bk-root\" id=\"d03e0d89-2991-4865-a033-8c1e90f9c7dd\" data-root-id=\"2307\"></div>\n"
      ]
     },
     "metadata": {},
     "output_type": "display_data"
    },
    {
     "data": {
      "application/javascript": [
       "(function(root) {\n",
       "  function embed_document(root) {\n",
       "  const docs_json = {\"75c33f3f-5b5e-4fde-84d7-8daf51602abe\":{\"defs\":[],\"roots\":{\"references\":[{\"attributes\":{\"children\":[{\"id\":\"2304\"},{\"id\":\"2305\"},{\"id\":\"2306\"}]},\"id\":\"2307\",\"type\":\"Column\"},{\"attributes\":{\"fill_alpha\":{\"value\":0.1},\"fill_color\":{\"value\":\"#21a7df\"},\"hatch_alpha\":{\"value\":0.1},\"line_alpha\":{\"value\":0.1},\"line_color\":{\"value\":\"#1f77b4\"},\"size\":{\"value\":30},\"x\":{\"field\":\"x\"},\"y\":{\"field\":\"y\"}},\"id\":\"2294\",\"type\":\"Circle\"},{\"attributes\":{},\"id\":\"2400\",\"type\":\"Selection\"},{\"attributes\":{\"children\":[{\"id\":\"2261\"}]},\"id\":\"2306\",\"type\":\"Row\"},{\"attributes\":{\"data\":{\"x\":[1,2,3,4,5,6,7,8,9,10],\"y\":[4,5,5,7,2,6,4,9,1,3]},\"selected\":{\"id\":\"2400\"},\"selection_policy\":{\"id\":\"2399\"}},\"id\":\"2292\",\"type\":\"ColumnDataSource\"},{\"attributes\":{\"coordinates\":null,\"data_source\":{\"id\":\"2292\"},\"glyph\":{\"id\":\"2293\"},\"group\":null,\"hover_glyph\":null,\"muted_glyph\":{\"id\":\"2295\"},\"nonselection_glyph\":{\"id\":\"2294\"},\"view\":{\"id\":\"2297\"}},\"id\":\"2296\",\"type\":\"GlyphRenderer\"},{\"attributes\":{},\"id\":\"2394\",\"type\":\"BasicTickFormatter\"},{\"attributes\":{},\"id\":\"2268\",\"type\":\"LinearScale\"},{\"attributes\":{\"coordinates\":null,\"formatter\":{\"id\":\"2394\"},\"group\":null,\"major_label_policy\":{\"id\":\"2395\"},\"ticker\":{\"id\":\"2275\"}},\"id\":\"2274\",\"type\":\"LinearAxis\"},{\"attributes\":{\"coordinates\":null,\"formatter\":{\"id\":\"2397\"},\"group\":null,\"major_label_policy\":{\"id\":\"2398\"},\"ticker\":{\"id\":\"2271\"}},\"id\":\"2270\",\"type\":\"LinearAxis\"},{\"attributes\":{},\"id\":\"2395\",\"type\":\"AllLabels\"},{\"attributes\":{},\"id\":\"2264\",\"type\":\"DataRange1d\"},{\"attributes\":{\"children\":[{\"id\":\"2301\"}]},\"id\":\"2305\",\"type\":\"Row\"},{\"attributes\":{},\"id\":\"2266\",\"type\":\"LinearScale\"},{\"attributes\":{},\"id\":\"2279\",\"type\":\"WheelZoomTool\"},{\"attributes\":{},\"id\":\"2283\",\"type\":\"HelpTool\"},{\"attributes\":{},\"id\":\"2278\",\"type\":\"PanTool\"},{\"attributes\":{\"children\":[{\"id\":\"2298\"},{\"id\":\"2299\"}]},\"id\":\"2304\",\"type\":\"Row\"},{\"attributes\":{},\"id\":\"2271\",\"type\":\"BasicTicker\"},{\"attributes\":{\"overlay\":{\"id\":\"2284\"}},\"id\":\"2280\",\"type\":\"BoxZoomTool\"},{\"attributes\":{},\"id\":\"2399\",\"type\":\"UnionRenderers\"},{\"attributes\":{\"axis\":{\"id\":\"2270\"},\"coordinates\":null,\"group\":null,\"ticker\":null},\"id\":\"2273\",\"type\":\"Grid\"},{\"attributes\":{},\"id\":\"2281\",\"type\":\"SaveTool\"},{\"attributes\":{\"args\":{\"other\":{\"id\":\"2293\"}},\"code\":\"other.size = this.value\"},\"id\":\"2300\",\"type\":\"CustomJS\"},{\"attributes\":{\"axis\":{\"id\":\"2274\"},\"coordinates\":null,\"dimension\":1,\"group\":null,\"ticker\":null},\"id\":\"2277\",\"type\":\"Grid\"},{\"attributes\":{},\"id\":\"2275\",\"type\":\"BasicTicker\"},{\"attributes\":{},\"id\":\"2282\",\"type\":\"ResetTool\"},{\"attributes\":{\"bottom_units\":\"screen\",\"coordinates\":null,\"fill_alpha\":0.5,\"fill_color\":\"lightgrey\",\"group\":null,\"left_units\":\"screen\",\"level\":\"overlay\",\"line_alpha\":1.0,\"line_color\":\"black\",\"line_dash\":[4,4],\"line_width\":2,\"right_units\":\"screen\",\"syncable\":false,\"top_units\":\"screen\"},\"id\":\"2284\",\"type\":\"BoxAnnotation\"},{\"attributes\":{\"high\":60,\"js_property_callbacks\":{\"change:value\":[{\"id\":\"2300\"}]},\"low\":0,\"step\":5,\"title\":\"Circle size\",\"value\":30,\"value_throttled\":30,\"width\":200},\"id\":\"2299\",\"type\":\"Spinner\"},{\"attributes\":{},\"id\":\"2397\",\"type\":\"BasicTickFormatter\"},{\"attributes\":{\"fill_alpha\":{\"value\":0.2},\"fill_color\":{\"value\":\"#21a7df\"},\"hatch_alpha\":{\"value\":0.2},\"line_alpha\":{\"value\":0.2},\"line_color\":{\"value\":\"#1f77b4\"},\"size\":{\"value\":30},\"x\":{\"field\":\"x\"},\"y\":{\"field\":\"y\"}},\"id\":\"2295\",\"type\":\"Circle\"},{\"attributes\":{\"tools\":[{\"id\":\"2278\"},{\"id\":\"2279\"},{\"id\":\"2280\"},{\"id\":\"2281\"},{\"id\":\"2282\"},{\"id\":\"2283\"}]},\"id\":\"2285\",\"type\":\"Toolbar\"},{\"attributes\":{\"below\":[{\"id\":\"2270\"}],\"center\":[{\"id\":\"2273\"},{\"id\":\"2277\"}],\"height\":250,\"left\":[{\"id\":\"2274\"}],\"renderers\":[{\"id\":\"2296\"}],\"title\":{\"id\":\"2391\"},\"toolbar\":{\"id\":\"2285\"},\"width\":500,\"x_range\":{\"id\":\"2262\"},\"x_scale\":{\"id\":\"2266\"},\"y_range\":{\"id\":\"2264\"},\"y_scale\":{\"id\":\"2268\"}},\"id\":\"2261\",\"subtype\":\"Figure\",\"type\":\"Plot\"},{\"attributes\":{\"source\":{\"id\":\"2292\"}},\"id\":\"2297\",\"type\":\"CDSView\"},{\"attributes\":{\"end\":10,\"js_property_callbacks\":{\"change:value\":[{\"id\":\"2302\"},{\"id\":\"2303\"}]},\"start\":0,\"title\":\"Adjust x-axis range\",\"value\":[1,9]},\"id\":\"2301\",\"type\":\"RangeSlider\"},{\"attributes\":{\"fill_color\":{\"value\":\"#21a7df\"},\"line_color\":{\"value\":\"#1f77b4\"},\"size\":{\"value\":30},\"x\":{\"field\":\"x\"},\"y\":{\"field\":\"y\"}},\"id\":\"2293\",\"type\":\"Circle\"},{\"attributes\":{},\"id\":\"2398\",\"type\":\"AllLabels\"},{\"attributes\":{\"height\":30,\"text\":\"\\n          <p>Select the circle's size using this control element:</p>\\n          \",\"width\":200},\"id\":\"2298\",\"type\":\"Div\"},{\"attributes\":{\"end\":9,\"start\":1},\"id\":\"2262\",\"type\":\"Range1d\"},{\"attributes\":{\"coordinates\":null,\"group\":null},\"id\":\"2391\",\"type\":\"Title\"},{\"attributes\":{\"args\":{\"other\":{\"id\":\"2262\"}},\"code\":\"other.start = this.value[0]\"},\"id\":\"2302\",\"type\":\"CustomJS\"},{\"attributes\":{\"args\":{\"other\":{\"id\":\"2262\"}},\"code\":\"other.end = this.value[1]\"},\"id\":\"2303\",\"type\":\"CustomJS\"}],\"root_ids\":[\"2307\"]},\"title\":\"Bokeh Application\",\"version\":\"2.4.3\"}};\n",
       "  const render_items = [{\"docid\":\"75c33f3f-5b5e-4fde-84d7-8daf51602abe\",\"root_ids\":[\"2307\"],\"roots\":{\"2307\":\"d03e0d89-2991-4865-a033-8c1e90f9c7dd\"}}];\n",
       "  root.Bokeh.embed.embed_items_notebook(docs_json, render_items);\n",
       "  }\n",
       "  if (root.Bokeh !== undefined) {\n",
       "    embed_document(root);\n",
       "  } else {\n",
       "    let attempts = 0;\n",
       "    const timer = setInterval(function(root) {\n",
       "      if (root.Bokeh !== undefined) {\n",
       "        clearInterval(timer);\n",
       "        embed_document(root);\n",
       "      } else {\n",
       "        attempts++;\n",
       "        if (attempts > 100) {\n",
       "          clearInterval(timer);\n",
       "          console.log(\"Bokeh: ERROR: Unable to run BokehJS code because BokehJS library is missing\");\n",
       "        }\n",
       "      }\n",
       "    }, 10, root)\n",
       "  }\n",
       "})(window);"
      ],
      "application/vnd.bokehjs_exec.v0+json": ""
     },
     "metadata": {
      "application/vnd.bokehjs_exec.v0+json": {
       "id": "2307"
      }
     },
     "output_type": "display_data"
    }
   ],
   "source": [
    "from bokeh.layouts import layout\n",
    "from bokeh.models import Div, RangeSlider, Spinner\n",
    "from bokeh.plotting import figure, show\n",
    "\n",
    "# prepare some data\n",
    "x = [1, 2, 3, 4, 5, 6, 7, 8, 9, 10]\n",
    "y = [4, 5, 5, 7, 2, 6, 4, 9, 1, 3]\n",
    "\n",
    "# create plot with circle glyphs\n",
    "p = figure(x_range=(1, 9), width=500, height=250)\n",
    "points = p.circle(x=x, y=y, size=30, fill_color=\"#21a7df\")\n",
    "\n",
    "# set up textarea (div)\n",
    "div = Div(\n",
    "    text=\"\"\"\n",
    "          <p>Select the circle's size using this control element:</p>\n",
    "          \"\"\",\n",
    "    width=200,\n",
    "    height=30,\n",
    ")\n",
    "\n",
    "# set up spinner\n",
    "spinner = Spinner(\n",
    "    title=\"Circle size\",\n",
    "    low=0,\n",
    "    high=60,\n",
    "    step=5,\n",
    "    value=points.glyph.size,\n",
    "    width=200,\n",
    ")\n",
    "spinner.js_link(\"value\", points.glyph, \"size\")\n",
    "\n",
    "# set up RangeSlider\n",
    "range_slider = RangeSlider(\n",
    "    title=\"Adjust x-axis range\",\n",
    "    start=0,\n",
    "    end=10,\n",
    "    step=1,\n",
    "    value=(p.x_range.start, p.x_range.end),\n",
    ")\n",
    "range_slider.js_link(\"value\", p.x_range, \"start\", attr_selector=0)\n",
    "range_slider.js_link(\"value\", p.x_range, \"end\", attr_selector=1)\n",
    "\n",
    "# create layout\n",
    "layout = layout(\n",
    "    [\n",
    "        [div, spinner],\n",
    "        [range_slider],\n",
    "        [p],\n",
    "    ]\n",
    ")\n",
    "\n",
    "# show result\n",
    "show(layout)"
   ]
  },
  {
   "cell_type": "code",
   "execution_count": null,
   "metadata": {},
   "outputs": [],
   "source": []
  }
 ],
 "metadata": {
  "kernelspec": {
   "display_name": "Python 3 (ipykernel)",
   "language": "python",
   "name": "python3"
  },
  "language_info": {
   "codemirror_mode": {
    "name": "ipython",
    "version": 3
   },
   "file_extension": ".py",
   "mimetype": "text/x-python",
   "name": "python",
   "nbconvert_exporter": "python",
   "pygments_lexer": "ipython3",
   "version": "3.10.6"
  },
  "vscode": {
   "interpreter": {
    "hash": "8d5f8b9db6d09163093f925046bd79047d4611de225371bb663724128878b15d"
   }
  }
 },
 "nbformat": 4,
 "nbformat_minor": 4
}
